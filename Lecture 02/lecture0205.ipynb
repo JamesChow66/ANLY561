{
 "cells": [
  {
   "cell_type": "code",
   "execution_count": 1,
   "metadata": {
    "collapsed": true
   },
   "outputs": [],
   "source": [
    "'''\n",
    "This code imports numpy packages and allows us to pass data from python to global javascript\n",
    "objects. It was developed by znah@github\n",
    "'''\n",
    "\n",
    "import json\n",
    "import numpy as np\n",
    "import numpy.random as rd\n",
    "import matplotlib.pyplot as plt\n",
    "\n",
    "from ipywidgets import widgets\n",
    "from IPython.display import HTML, Javascript, display\n",
    "\n",
    "def json_numpy_serializer(o):\n",
    "    if isinstance(o, np.ndarray):\n",
    "        return o.tolist()\n",
    "    raise TypeError(\"{} of type {} is not JSON serializable\".format(repr(o), type(o)))\n",
    "\n",
    "def jsglobal(**params):\n",
    "    code = [];\n",
    "    for name, value in params.items():\n",
    "        jsdata = json.dumps(value, default=json_numpy_serializer)\n",
    "        code.append(\"window.{}={};\".format(name, jsdata))\n",
    "    display(Javascript(\"\\n\".join(code)))"
   ]
  },
  {
   "cell_type": "code",
   "execution_count": 2,
   "metadata": {},
   "outputs": [
    {
     "data": {
      "application/javascript": [
       "\n",
       "// Loading the compiled MathBox bundle.\n",
       "require.config({\n",
       "    //baseUrl:'', paths: {mathBox: '../../tree/static/mathbox/build/mathbox-bundle'}\n",
       "    // online compilation\n",
       "    baseUrl: '', paths: {mathBox: '../static/mathbox/build/mathbox-bundle'}\n",
       "    // online compilation without local library-- remove baseUrl\n",
       "    //paths: {mathBox: '//cdn.rawgit.com/unconed/mathbox/eaeb8e15/build/mathbox-bundle'}\n",
       "});\n",
       "\n",
       "// Minified graphing functions\n",
       "\n",
       "window.with_mathbox=function(element,func){require(['mathBox'],function(){var mathbox=mathBox({plugins:['core','controls','cursor','mathbox'],controls:{klass:THREE.OrbitControls},mathbox:{inspect:!1},element:element[0],loop:{start:!1},});var three=mathbox.three;three.renderer.setClearColor(new THREE.Color(0xFFFFFF),1.0);three.camera.position.set(-1,1,2);three.controls.noKeys=!0;three.element.style.height=\"400px\";three.element.style.width=\"100%\";function isInViewport(element){var rect=element.getBoundingClientRect();var html=document.documentElement;var w=window.innerWidth||html.clientWidth;var h=window.innerHeight||html.clientHeight;return rect.top<h&&rect.left<w&&rect.bottom>0&&rect.right>0}\n",
       "var intervalId=setInterval(function(){if(three.element.offsetParent===null){clearInterval(intervalId);three.destroy();return}\n",
       "var visible=isInViewport(three.canvas);if(three.Loop.running!=visible){visible?three.Loop.start():three.Loop.stop()}},100);func(mathbox);window.dispatchEvent(new Event('resize'))})};window.plotGraph=function(mathbox,f,xlabel='x',ylabel='y',zlabel='f(x,y)',rng=[[-3,3],[-5,5],[-3,3]]){var view=mathbox.cartesian({range:rng,scale:[1,1,1]},{rotation:(t)=>[0,t*0.02,0]}).grid({axes:[1,3]})\n",
       "view.area({id:'yaxis',width:1,height:1,axes:[1,3],expr:function(emit,x,y,i,j){emit(4,0,0);emit(0,0,0)},items:2,channels:3,}).text({font:'Helvetica',style:'bold',width:16,height:5,depth:2,expr:function(emit,i,j,k,time){emit(ylabel)},}).label({color:'#000000',snap:!1,outline:2,size:24,offset:[0,-32],depth:.5,zIndex:1});view.vector({points:'#yaxis',color:0x000000,width:9,start:!0});view.area({id:'xaxis',width:1,height:1,axes:[1,3],expr:function(emit,x,y,i,j){emit(0,0,4);emit(0,0,0)},items:2,channels:3,}).text({font:'Helvetica',style:'bold',width:16,height:5,depth:2,expr:function(emit,i,j,k,time){emit(xlabel)},}).label({color:'#000000',snap:!1,outline:2,size:24,offset:[0,-32],depth:.5,zIndex:1,});view.vector({points:'#xaxis',color:0x000000,width:9,start:!0,});view.area({id:'zaxis',width:1,height:1,axes:[1,3],expr:function(emit,x,y,i,j){emit(0,4,0);emit(0,0,0)},items:2,channels:3,}).text({font:'Helvetica',style:'bold',width:16,height:5,depth:2,expr:function(emit,i,j,k,time){emit(zlabel)},}).label({color:'#000000',snap:!1,outline:2,size:24,offset:[0,-32],depth:.5,zIndex:1,});view.vector({points:'#zaxis',color:0x000000,width:9,start:!0,});var graph=view.area({id:'graph',width:64,height:64,axes:[1,3],expr:function(emit,y,x,i,j){emit(y,f(x,y),x)},items:1,channels:3,});view.surface({shaded:!0,lineX:!0,lineY:!0,points:graph,color:0x0000FF,width:1,});return view};window.addSegment=function(view,p0,p1,col){view.array({width:128,expr:function(emit,i,time){var b=i/128;var a=1-b;emit(a*p0[1]+b*p1[1],a*p0[2]+b*p1[2],a*p0[0]+b*p1[0])},channels:3,});view.line({color:col,width:10,size:2.5,stroke:'dotted',start:!1,end:!1,})};window.addPoint=function(view,p,col,label){view.array({width:4,items:2,channels:3,expr:function(emit,i,t){emit(p[1],p[2],p[0])},}).point({color:col,points:'<',size:15,depth:.5,zBias:50,}).text({font:'Helvetica',style:'bold',width:16,height:5,depth:2,expr:function(emit,i,j,k,time){emit(label)},}).label({color:col,snap:!1,outline:2,size:24,offset:[0,-32],depth:.5,zIndex:1,})};window.addCurve=function(view,ab,x,y,z,col){view.array({width:128,expr:function(emit,i,time){var t=(ab[1]-ab[0])*(i/128)+ab[0];emit(y(t),z(t),x(t))},channels:3,});view.line({color:col,width:20,size:2.5,start:!0,end:!0,})};window.addClosedCurve=function(view,ab,x,y,z,col){view.array({width:128,expr:function(emit,i,time){var t=(ab[1]-ab[0])*(i/128)+ab[0];emit(y(t),z(t),x(t))},channels:3,});view.line({color:col,width:20,size:2.5,start:!1,end:!1,})};window.addSurface=function(view,ab,cd,x,y,z,col,opa){view.matrix({width:64,height:64,expr:function(emit,i,j,time){var p=(ab[1]-ab[0])*(i/64)+ab[0];var q=(cd[1]-cd[0])*(j/64)+cd[0];emit(y(p,q),z(p,q),x(p,q))},items:1,channels:3}).surface({shaded:!0,lineX:!1,lineY:!1,color:col,width:1,opacity:opa})}\n",
       "window.addSequence=function(view,seq,col){var idx=0;var d=new Date();var start=d.getTime();view.array({width:1,expr:function(emit,i,time){var nd=new Date();var now=nd.getTime();if(1000<now-start){idx=idx+1;if(seq.length<=idx){idx=0}\n",
       "start=now}\n",
       "emit(seq[idx][1],seq[idx][2],seq[idx][0])},items:1,channels:3}).point({color:col,points:'<',size:15,depth:.5,zBias:50,})}"
      ],
      "text/plain": [
       "<IPython.core.display.Javascript object>"
      ]
     },
     "metadata": {},
     "output_type": "display_data"
    }
   ],
   "source": [
    "%%javascript\n",
    "\n",
    "// Loading the compiled MathBox bundle.\n",
    "require.config({\n",
    "    //baseUrl:'', paths: {mathBox: '../../tree/static/mathbox/build/mathbox-bundle'}\n",
    "    // online compilation\n",
    "    baseUrl: '', paths: {mathBox: '../static/mathbox/build/mathbox-bundle'}\n",
    "    // online compilation without local library-- remove baseUrl\n",
    "    //paths: {mathBox: '//cdn.rawgit.com/unconed/mathbox/eaeb8e15/build/mathbox-bundle'}\n",
    "});\n",
    "\n",
    "// Minified graphing functions\n",
    "\n",
    "window.with_mathbox=function(element,func){require(['mathBox'],function(){var mathbox=mathBox({plugins:['core','controls','cursor','mathbox'],controls:{klass:THREE.OrbitControls},mathbox:{inspect:!1},element:element[0],loop:{start:!1},});var three=mathbox.three;three.renderer.setClearColor(new THREE.Color(0xFFFFFF),1.0);three.camera.position.set(-1,1,2);three.controls.noKeys=!0;three.element.style.height=\"400px\";three.element.style.width=\"100%\";function isInViewport(element){var rect=element.getBoundingClientRect();var html=document.documentElement;var w=window.innerWidth||html.clientWidth;var h=window.innerHeight||html.clientHeight;return rect.top<h&&rect.left<w&&rect.bottom>0&&rect.right>0}\n",
    "var intervalId=setInterval(function(){if(three.element.offsetParent===null){clearInterval(intervalId);three.destroy();return}\n",
    "var visible=isInViewport(three.canvas);if(three.Loop.running!=visible){visible?three.Loop.start():three.Loop.stop()}},100);func(mathbox);window.dispatchEvent(new Event('resize'))})};window.plotGraph=function(mathbox,f,xlabel='x',ylabel='y',zlabel='f(x,y)',rng=[[-3,3],[-5,5],[-3,3]]){var view=mathbox.cartesian({range:rng,scale:[1,1,1]},{rotation:(t)=>[0,t*0.02,0]}).grid({axes:[1,3]})\n",
    "view.area({id:'yaxis',width:1,height:1,axes:[1,3],expr:function(emit,x,y,i,j){emit(4,0,0);emit(0,0,0)},items:2,channels:3,}).text({font:'Helvetica',style:'bold',width:16,height:5,depth:2,expr:function(emit,i,j,k,time){emit(ylabel)},}).label({color:'#000000',snap:!1,outline:2,size:24,offset:[0,-32],depth:.5,zIndex:1});view.vector({points:'#yaxis',color:0x000000,width:9,start:!0});view.area({id:'xaxis',width:1,height:1,axes:[1,3],expr:function(emit,x,y,i,j){emit(0,0,4);emit(0,0,0)},items:2,channels:3,}).text({font:'Helvetica',style:'bold',width:16,height:5,depth:2,expr:function(emit,i,j,k,time){emit(xlabel)},}).label({color:'#000000',snap:!1,outline:2,size:24,offset:[0,-32],depth:.5,zIndex:1,});view.vector({points:'#xaxis',color:0x000000,width:9,start:!0,});view.area({id:'zaxis',width:1,height:1,axes:[1,3],expr:function(emit,x,y,i,j){emit(0,4,0);emit(0,0,0)},items:2,channels:3,}).text({font:'Helvetica',style:'bold',width:16,height:5,depth:2,expr:function(emit,i,j,k,time){emit(zlabel)},}).label({color:'#000000',snap:!1,outline:2,size:24,offset:[0,-32],depth:.5,zIndex:1,});view.vector({points:'#zaxis',color:0x000000,width:9,start:!0,});var graph=view.area({id:'graph',width:64,height:64,axes:[1,3],expr:function(emit,y,x,i,j){emit(y,f(x,y),x)},items:1,channels:3,});view.surface({shaded:!0,lineX:!0,lineY:!0,points:graph,color:0x0000FF,width:1,});return view};window.addSegment=function(view,p0,p1,col){view.array({width:128,expr:function(emit,i,time){var b=i/128;var a=1-b;emit(a*p0[1]+b*p1[1],a*p0[2]+b*p1[2],a*p0[0]+b*p1[0])},channels:3,});view.line({color:col,width:10,size:2.5,stroke:'dotted',start:!1,end:!1,})};window.addPoint=function(view,p,col,label){view.array({width:4,items:2,channels:3,expr:function(emit,i,t){emit(p[1],p[2],p[0])},}).point({color:col,points:'<',size:15,depth:.5,zBias:50,}).text({font:'Helvetica',style:'bold',width:16,height:5,depth:2,expr:function(emit,i,j,k,time){emit(label)},}).label({color:col,snap:!1,outline:2,size:24,offset:[0,-32],depth:.5,zIndex:1,})};window.addCurve=function(view,ab,x,y,z,col){view.array({width:128,expr:function(emit,i,time){var t=(ab[1]-ab[0])*(i/128)+ab[0];emit(y(t),z(t),x(t))},channels:3,});view.line({color:col,width:20,size:2.5,start:!0,end:!0,})};window.addClosedCurve=function(view,ab,x,y,z,col){view.array({width:128,expr:function(emit,i,time){var t=(ab[1]-ab[0])*(i/128)+ab[0];emit(y(t),z(t),x(t))},channels:3,});view.line({color:col,width:20,size:2.5,start:!1,end:!1,})};window.addSurface=function(view,ab,cd,x,y,z,col,opa){view.matrix({width:64,height:64,expr:function(emit,i,j,time){var p=(ab[1]-ab[0])*(i/64)+ab[0];var q=(cd[1]-cd[0])*(j/64)+cd[0];emit(y(p,q),z(p,q),x(p,q))},items:1,channels:3}).surface({shaded:!0,lineX:!1,lineY:!1,color:col,width:1,opacity:opa})}\n",
    "window.addSequence=function(view,seq,col){var idx=0;var d=new Date();var start=d.getTime();view.array({width:1,expr:function(emit,i,time){var nd=new Date();var now=nd.getTime();if(1000<now-start){idx=idx+1;if(seq.length<=idx){idx=0}\n",
    "start=now}\n",
    "emit(seq[idx][1],seq[idx][2],seq[idx][0])},items:1,channels:3}).point({color:col,points:'<',size:15,depth:.5,zBias:50,})}"
   ]
  },
  {
   "cell_type": "markdown",
   "metadata": {
    "collapsed": true
   },
   "source": [
    "# Part IX: Stochastic Gradient Descent\n",
    "\n",
    "We now return to the example of logistic regression, but where we now use two parameters in our model. In particular, we will set\n",
    "\n",
    "$$\n",
    "\\text{prob}(y=1\\vert x;\\beta_0, \\beta_1) = \\text{logit}(\\beta_1 x +\\beta_0)\n",
    "$$\n",
    "and\n",
    "$$\n",
    "\\text{prob}(y=-1\\vert x;\\beta_0, \\beta_1) = \\text{logit}(-\\beta_1 x - \\beta_0)\n",
    "$$\n"
   ]
  },
  {
   "cell_type": "code",
   "execution_count": 3,
   "metadata": {},
   "outputs": [
    {
     "data": {
      "image/png": "[encoded data removed]",
      "text/plain": [
       "<matplotlib.figure.Figure at 0x109667240>"
      ]
     },
     "metadata": {},
     "output_type": "display_data"
    }
   ],
   "source": [
    "def logit(x):\n",
    "    return 1/(1+np.exp(-x))\n",
    "\n",
    "b0 = 1\n",
    "b1 = 1\n",
    "\n",
    "t = np.linspace(-10, 10)\n",
    "s = b1 * t + b0\n",
    "plt.plot(s, logit(s))\n",
    "plt.title('Logisitic composed with affine')\n",
    "plt.xlabel('x')\n",
    "plt.ylabel('prob(y=1|x;b0=' + str(b0) + ', b1=' + str(b1) + ')')\n",
    "plt.show()"
   ]
  },
  {
   "cell_type": "markdown",
   "metadata": {},
   "source": [
    "Now suppose we are supplied with data $\\{(x^{(i)}, y^{(i)})\\}_{i=1}^N\\subset\\mathbb{R}\\times\\{-1, 1\\}$, where we assume that $x^{(i)}$ are chosen by some arbitrary process and $y^{(i)}$ is drawn from a Bernoulli trial with the above probability of $y^{(i)}=1, -1$. Our goal is to use this data to infer the true values of $\\beta_0$ and $\\beta_1$. Setting\n",
    "\n",
    "$$\n",
    "{\\bf \\beta} = \\begin{pmatrix}\n",
    "\\beta_0\\\\\n",
    "\\beta_1\n",
    "\\end{pmatrix}\\text{ and } {\\bf x} = \\begin{pmatrix}\n",
    "1\\\\\n",
    "x\n",
    "\\end{pmatrix},\n",
    "$$\n",
    "\n",
    "$\\text{logit}(\\beta_1 x + \\beta_0)=\\text{logit}({\\bf \\beta}^T{\\bf x})$. The maximum likelihood principle leads us to consider the maximization of the likelihood\n",
    "\n",
    "$$\n",
    "\\mathcal{L}({\\bf \\beta}) = \\prod_{i=1}^N \\text{logit}(y^{(i)}{\\bf \\beta}^T {\\bf x}^{(i)})\n",
    "$$\n",
    "\n",
    "and we therefore seek the minimize the negative log-likelihood\n",
    "\n",
    "$$\n",
    "\\ell({\\bf \\beta}) = \\frac{1}{N} \\sum_{i=1}^N \\log\\left(1 + e^{-y^{(i)}{\\bf \\beta}^T {\\bf x}^{(i)}}\\right)\n",
    "$$\n",
    "\n",
    "Let's create some data to display this function\n"
   ]
  },
  {
   "cell_type": "code",
   "execution_count": 4,
   "metadata": {},
   "outputs": [
    {
     "data": {
      "image/png": "[encoded data removed]",
      "text/plain": [
       "<matplotlib.figure.Figure at 0x103e87860>"
      ]
     },
     "metadata": {},
     "output_type": "display_data"
    },
    {
     "data": {
      "application/javascript": [
       "window.X=[-1.1020141799128462, 0.6818294155027103, -0.17755657787715295, 0.257231684808365, 0.31031249187797144, 0.26650734048253777, -0.9187304628133286, -1.084962596973464, -1.5442251110864094, 0.9326164110841312, 1.5587956150836337, 0.18654067180315406, 0.6336489656817917, -0.2256410752677886, 0.026245941117924988, 0.39141592319872454, -0.6559624717840696, -0.13131361583228535, -1.1140012515235953, 0.07352550130941986, 0.23517258659838786, 1.0469096953908308, 1.4624598834395157, -1.0490002793733244, -0.19462526558510607, 1.4585024106930884, 0.8149958994504433, 0.9225817426267293, 0.35282280706130303, -2.344730558816389, 0.4804196629960718, -0.49576899649954015, 1.2777224258402107, 0.17558298228199803, -0.18119322615506078, 0.4387639619325066, -0.2230526656436849, -2.0851808681985666, -1.6290967772503298, -0.1266611837251073, -0.8494242374645938, -0.3057649454501991, -1.887668371364496, -0.26426476969620355, 1.1467281905355915, 1.2112649288929827, -2.307668671860747, -1.1145679486298163, 0.5552333673402423, -1.304973023216755, 0.3211874941640777, -0.5273040259027466, -1.0512913549712577, -1.35741009327049, 1.2895081907475183, 2.565016879190005, 0.5889916858916505, -0.6922765407567355, -1.418420294008061, 0.3981907290721994, 1.239468291918802, -1.134806080472075, 0.48956311539991754, 0.8017986902801711, 0.1712496031342618, -0.8851000575270702, -1.3024116926012417, -0.08415700413567123, 0.311162163965813, 0.1844371985168865, -0.8282960155638242, 0.9832064685587624, 0.11647674533048216, -1.2979516290858557, 1.2910388069818, 0.5091105029513859, -0.16951404325525735, -1.0062797946321975, 1.824733354294264, -1.4865738343396215, 0.8947790753586097, 0.3638773315299312, 0.12857739361956574, 1.0444564972818193, -0.44376363076619535, 0.5738638898374326, 0.1892153534012107, -0.2818067684964772, -0.197769769833648, -0.34785659769628013, -1.2470937248384277, -0.3512048342276006, 0.03845651667236541, -1.059657907756941, -0.5637776124789788, 1.9098054838309595, 1.5167347967116884, -0.6471093566932883, -0.00605018945967221, 0.13841540942111719];"
      ],
      "text/plain": [
       "<IPython.core.display.Javascript object>"
      ]
     },
     "metadata": {},
     "output_type": "display_data"
    },
    {
     "data": {
      "application/javascript": [
       "window.Y=[1.0, 1.0, 1.0, 1.0, 1.0, 1.0, 1.0, -1.0, 1.0, 1.0, 1.0, 1.0, 1.0, 1.0, 1.0, 1.0, 1.0, 1.0, -1.0, 1.0, 1.0, 1.0, 1.0, -1.0, 1.0, 1.0, 1.0, 1.0, 1.0, -1.0, 1.0, 1.0, 1.0, 1.0, 1.0, 1.0, 1.0, -1.0, -1.0, 1.0, -1.0, -1.0, -1.0, 1.0, 1.0, 1.0, -1.0, 1.0, 1.0, -1.0, 1.0, 1.0, 1.0, 1.0, 1.0, 1.0, 1.0, -1.0, -1.0, 1.0, 1.0, 1.0, 1.0, 1.0, 1.0, 1.0, 1.0, 1.0, 1.0, 1.0, 1.0, 1.0, 1.0, -1.0, 1.0, 1.0, -1.0, -1.0, 1.0, -1.0, 1.0, 1.0, 1.0, 1.0, 1.0, 1.0, 1.0, 1.0, 1.0, -1.0, 1.0, -1.0, 1.0, -1.0, 1.0, 1.0, 1.0, 1.0, 1.0, -1.0];"
      ],
      "text/plain": [
       "<IPython.core.display.Javascript object>"
      ]
     },
     "metadata": {},
     "output_type": "display_data"
    },
    {
     "data": {
      "application/javascript": [
       "window.B=[2, 2];"
      ],
      "text/plain": [
       "<IPython.core.display.Javascript object>"
      ]
     },
     "metadata": {},
     "output_type": "display_data"
    }
   ],
   "source": [
    "N = 100\n",
    "beta = np.array([2, 2]) # The true parameters in the model\n",
    "x = rd.randn(N) # Arbitrary x values\n",
    "\n",
    "# y's drawn randomly\n",
    "y = np.zeros(N)\n",
    "for i in range(N):\n",
    "    if rd.binomial(1,logit(beta.T @ [1, x[i]])) == 1:\n",
    "        y[i] = 1\n",
    "    else:\n",
    "        y[i] = -1\n",
    "        \n",
    "plt.scatter(x, y)\n",
    "plt.show()\n",
    "        \n",
    "jsglobal(X=x)\n",
    "jsglobal(Y=y)\n",
    "jsglobal(B=beta)"
   ]
  },
  {
   "cell_type": "code",
   "execution_count": 5,
   "metadata": {},
   "outputs": [
    {
     "data": {
      "application/javascript": [
       "\n",
       "with_mathbox(element, function(mathbox) {\n",
       "    \n",
       "    var fcn = function(b0, b1) {\n",
       "        \n",
       "        var val = 0;\n",
       "        for (var i = 0; i<X.length; i++) {\n",
       "            val = val + Math.log(1 + Math.exp(-Y[i] * (b1 * X[i] + b0)));\n",
       "        } \n",
       "        \n",
       "        return val / X.length;\n",
       "    }\n",
       "    \n",
       "    var view = plotGraph(mathbox, fcn, 'b0', 'b1', 'l(b0,b1)', [[-3, 3], [-1, 3], [-3, 3]]);\n",
       "    \n",
       "    addPoint(view, [B[0], B[1], 0], 0x3090FF, '(2, 2)');\n",
       "    \n",
       "    addPoint(view, [B[0], B[1], fcn(B[0], B[1])], 0xFF9030, 'Objective at True Parameter')\n",
       "     \n",
       "})"
      ],
      "text/plain": [
       "<IPython.core.display.Javascript object>"
      ]
     },
     "metadata": {},
     "output_type": "display_data"
    }
   ],
   "source": [
    "%%javascript\n",
    "\n",
    "with_mathbox(element, function(mathbox) {\n",
    "    \n",
    "    var fcn = function(b0, b1) {\n",
    "        \n",
    "        var val = 0;\n",
    "        for (var i = 0; i<X.length; i++) {\n",
    "            val = val + Math.log(1 + Math.exp(-Y[i] * (b1 * X[i] + b0)));\n",
    "        } \n",
    "        \n",
    "        return val / X.length;\n",
    "    }\n",
    "    \n",
    "    var view = plotGraph(mathbox, fcn, 'b0', 'b1', 'l(b0,b1)', [[-3, 3], [-1, 3], [-3, 3]]);\n",
    "    \n",
    "    addPoint(view, [B[0], B[1], 0], 0x3090FF, '(2, 2)');\n",
    "    \n",
    "    addPoint(view, [B[0], B[1], fcn(B[0], B[1])], 0xFF9030, 'Objective at True Parameter')\n",
    "     \n",
    "})"
   ]
  },
  {
   "cell_type": "markdown",
   "metadata": {},
   "source": [
    "We can generate data and view the objective function determined by that data. We can also illustrate the convergence of stochastic gradient descent."
   ]
  },
  {
   "cell_type": "code",
   "execution_count": 6,
   "metadata": {},
   "outputs": [
    {
     "data": {
      "application/javascript": [
       "window.SGD=[[0.0, 0.0, 0.0], [0.632455532033676, 1.3695378933080715, 0.0], [0.7362920369934451, 1.654815164995505, 0.0], [0.8198322871447061, 1.7753328074344488, 0.0], [0.9130650968438202, 1.8640186250211719, 0.0], [0.9807086102736173, 1.9313938220945435, 0.0], [1.0922780387754694, 1.866434344189686, 0.0], [1.0310150306381607, 2.1014060943125292, 0.0], [1.164639482371183, 1.976958326897866, 0.0], [1.2769920394914382, 1.8794571870135452, 0.0], [1.2828542723269927, 1.9093635849694348, 0.0], [1.30102762497271, 1.9366159190945373, 0.0], [1.3437492372546935, 1.9140742786799645, 0.0], [1.3361003601679138, 1.956710498167138, 0.0], [1.3116180480540016, 2.031212297517893, 0.0], [1.2609616817111697, 2.125799488540081, 0.0], [1.2980710748253081, 2.1198217662177963, 0.0], [1.291846900252842, 2.1432031730805243, 0.0], [1.2857443288422366, 2.1670089889892674, 0.0], [1.3001553643589192, 2.1828148511703085, 0.0], [1.3196370767281476, 2.192787666541279, 0.0], [1.2956994156359212, 2.239925463032419, 0.0], [1.315871512273248, 2.2322777960144933, 0.0], [1.302136715084289, 2.2640407561227858, 0.0], [1.3154448192850354, 2.260606357940533, 0.0], [1.2923491775007518, 2.31758760425473, 0.0], [1.309855279050283, 2.3169427713917368, 0.0], [1.307039696088001, 2.3272773066312245, 0.0], [1.3482365265845306, 2.2988299937895524, 0.0], [1.3796585503287007, 2.2760526367519356, 0.0], [1.3757829644218984, 2.3074036183341238, 0.0], [1.3867255112323915, 2.317277895963346, 0.0], [1.3997166052209036, 2.3014810663043592, 0.0], [1.3889156882276277, 2.3263956404190607, 0.0], [1.3791716388477546, 2.339385105480558, 0.0], [1.387091863572194, 2.3495128680979738, 0.0], [1.3647096810976143, 2.384875490178444, 0.0], [1.36011435518539, 2.4084659101769272, 0.0], [1.374557330779875, 2.39975819728611, 0.0], [1.379883470573056, 2.4005027754535213, 0.0], [1.3825882164261916, 2.410653178597918, 0.0], [1.3640480846059544, 2.451640714369299, 0.0], [1.365976119272811, 2.4664943586101997, 0.0], [1.3792299889098194, 2.454526788820897, 0.0], [1.3832117919293876, 2.4654461621559016, 0.0], [1.3779676276116166, 2.4728361517504096, 0.0], [1.3778710510591892, 2.475912755355512, 0.0], [1.3924684691354918, 2.4749680605317477, 0.0], [1.3884609760559727, 2.4807102493826396, 0.0], [1.3887700123563118, 2.4865261451026126, 0.0], [1.395318952157666, 2.487442460857984, 0.0], [1.383690928932576, 2.505080850758757, 0.0], [1.3813741537345658, 2.5264204836899053, 0.0], [1.3692782650806747, 2.544555300577596, 0.0], [1.383585654279475, 2.5342867994944527, 0.0], [1.3592440550819127, 2.572311345550879, 0.0], [1.3676484450129212, 2.5781069334372337, 0.0], [1.379493249112464, 2.574418513157088, 0.0], [1.3815485831353664, 2.580915343120376, 0.0], [1.3759480865331402, 2.5914925266041546, 0.0], [1.37758919990781, 2.5971808699642915, 0.0], [1.3731157149617927, 2.6078137441763536, 0.0], [1.3831829195947338, 2.5996925401728075, 0.0], [1.3798711511136421, 2.608467900567755, 0.0], [1.379874715304526, 2.617265336025983, 0.0], [1.3832695824956591, 2.6183009798270933, 0.0], [1.3849115583259575, 2.62412697127544, 0.0], [1.3824767237820066, 2.635379568515178, 0.0], [1.3800626836972383, 2.643709479643057, 0.0], [1.369200712672815, 2.6698948828452456, 0.0], [1.377607616449582, 2.6624947705943374, 0.0], [1.3740800880080417, 2.6687476198697495, 0.0], [1.3861515849136399, 2.658950052826667, 0.0], [1.3824575274985123, 2.6737294279457378, 0.0], [1.375778587565527, 2.686597787869356, 0.0], [1.3838400910622726, 2.6813029720748127, 0.0], [1.3902402540012708, 2.680867803697448, 0.0], [1.3897769964527036, 2.686641807497737, 0.0], [1.4010275539952126, 2.680050760653851, 0.0], [1.3950357865920053, 2.690075062906907, 0.0], [1.393475024862619, 2.705043836676369, 0.0], [1.4018632793850974, 2.701407704784185, 0.0], [1.3919901536570467, 2.720522798394071, 0.0], [1.3838724353630596, 2.7395644258607437, 0.0], [1.3911344082585784, 2.7363240574472267, 0.0], [1.3936971230914004, 2.7379050817554274, 0.0], [1.4003048556221618, 2.7350680286614573, 0.0], [1.4092738942831227, 2.730557989653789, 0.0], [1.4161166338474969, 2.723041161603965, 0.0], [1.4082303826645834, 2.7346406231188833, 0.0], [1.4131099573656223, 2.7321969466822793, 0.0], [1.40993801440229, 2.737359042349629, 0.0], [1.412702647383151, 2.7397755220337165, 0.0], [1.407398670746741, 2.7524112358392614, 0.0], [1.40732232514639, 2.7540479276783936, 0.0], [1.4089459621669762, 2.75560947295725, 0.0], [1.410763184124264, 2.756971243682258, 0.0], [1.4223465495839511, 2.7477148543347742, 0.0], [1.4196714645234787, 2.756511424889069, 0.0], [1.424625158011052, 2.7541104173296236, 0.0]];"
      ],
      "text/plain": [
       "<IPython.core.display.Javascript object>"
      ]
     },
     "metadata": {},
     "output_type": "display_data"
    }
   ],
   "source": [
    "X_data = np.vstack([np.ones(N), x])\n",
    "y_data = y\n",
    "\n",
    "M = 10 # Number of indices to randomly select for each step\n",
    "\n",
    "def dNLL(beta, X, y):\n",
    "    return -X @ (y * logit(-beta.T @ X)) / M\n",
    "\n",
    "iterations = 100\n",
    "\n",
    "betas_sgd = np.zeros((iterations, 3))\n",
    "\n",
    "for i in range(1,iterations):\n",
    "    idxs = rd.choice(N, M, replace=False)\n",
    "    betas_sgd[i,:2] = betas_sgd[i-1,:2] - np.sqrt(M)*dNLL(betas_sgd[i-1,:2].T, X_data[:,idxs], y_data[idxs])/i\n",
    "\n",
    "jsglobal(SGD=betas_sgd)"
   ]
  },
  {
   "cell_type": "code",
   "execution_count": 7,
   "metadata": {},
   "outputs": [
    {
     "data": {
      "application/javascript": [
       "\n",
       "with_mathbox(element, function(mathbox) {\n",
       "    \n",
       "    var fcn = function(b0, b1) {\n",
       "        \n",
       "        var val = 0;\n",
       "        for (var i = 0; i<X.length; i++) {\n",
       "            val = val + Math.log(1 + Math.exp(-Y[i] * (b1 * X[i] + b0)));\n",
       "        } \n",
       "        \n",
       "        return val / X.length;\n",
       "    }\n",
       "    \n",
       "    var view = plotGraph(mathbox, fcn, 'b0', 'b1', 'l(b0,b1)', [[-3, 3], [-1, 3], [-3, 3]]);\n",
       "    \n",
       "    addPoint(view, [B[0], B[1], 0], 0x3090FF, '(2, 2)');\n",
       "    \n",
       "    addPoint(view, [B[0], B[1], fcn(B[0], B[1])], 0xFF9030, 'Objective at True Parameter');\n",
       "    \n",
       "    addSequence(view, SGD, 0xFF0000);\n",
       "     \n",
       "})"
      ],
      "text/plain": [
       "<IPython.core.display.Javascript object>"
      ]
     },
     "metadata": {},
     "output_type": "display_data"
    }
   ],
   "source": [
    "%%javascript\n",
    "\n",
    "with_mathbox(element, function(mathbox) {\n",
    "    \n",
    "    var fcn = function(b0, b1) {\n",
    "        \n",
    "        var val = 0;\n",
    "        for (var i = 0; i<X.length; i++) {\n",
    "            val = val + Math.log(1 + Math.exp(-Y[i] * (b1 * X[i] + b0)));\n",
    "        } \n",
    "        \n",
    "        return val / X.length;\n",
    "    }\n",
    "    \n",
    "    var view = plotGraph(mathbox, fcn, 'b0', 'b1', 'l(b0,b1)', [[-3, 3], [-1, 3], [-3, 3]]);\n",
    "    \n",
    "    addPoint(view, [B[0], B[1], 0], 0x3090FF, '(2, 2)');\n",
    "    \n",
    "    addPoint(view, [B[0], B[1], fcn(B[0], B[1])], 0xFF9030, 'Objective at True Parameter');\n",
    "    \n",
    "    addSequence(view, SGD, 0xFF0000);\n",
    "     \n",
    "})"
   ]
  }
 ],
 "metadata": {
  "anaconda-cloud": {},
  "kernelspec": {
   "display_name": "Python [default]",
   "language": "python",
   "name": "python3"
  },
  "language_info": {
   "codemirror_mode": {
    "name": "ipython",
    "version": 3
   },
   "file_extension": ".py",
   "mimetype": "text/x-python",
   "name": "python",
   "nbconvert_exporter": "python",
   "pygments_lexer": "ipython3",
   "version": "3.5.3"
  }
 },
 "nbformat": 4,
 "nbformat_minor": 1
}

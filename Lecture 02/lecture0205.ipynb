{
 "cells": [
  {
   "cell_type": "code",
   "execution_count": 1,
   "metadata": {
    "collapsed": true
   },
   "outputs": [],
   "source": [
    "'''\n",
    "This code imports numpy packages and allows us to pass data from python to global javascript\n",
    "objects. It was developed by znah@github\n",
    "'''\n",
    "\n",
    "import json\n",
    "import numpy as np\n",
    "import numpy.random as rd\n",
    "import matplotlib.pyplot as plt\n",
    "\n",
    "from ipywidgets import widgets\n",
    "from IPython.display import HTML, Javascript, display\n",
    "\n",
    "def json_numpy_serializer(o):\n",
    "    if isinstance(o, np.ndarray):\n",
    "        return o.tolist()\n",
    "    raise TypeError(\"{} of type {} is not JSON serializable\".format(repr(o), type(o)))\n",
    "\n",
    "def jsglobal(**params):\n",
    "    code = [];\n",
    "    for name, value in params.items():\n",
    "        jsdata = json.dumps(value, default=json_numpy_serializer)\n",
    "        code.append(\"window.{}={};\".format(name, jsdata))\n",
    "    display(Javascript(\"\\n\".join(code)))"
   ]
  },
  {
   "cell_type": "code",
   "execution_count": 2,
   "metadata": {},
   "outputs": [
    {
     "data": {
      "application/javascript": [
       "\n",
       "// Loading the compiled MathBox bundle.\n",
       "require.config({\n",
       "    //baseUrl:'', paths: { mathBox: '../../tree/static/mathbox/build/mathbox-bundle', graphing: '../../tree/static/graphing/graphing'}\n",
       "    // online compilation\n",
       "    baseUrl: '', paths: {mathBox: '../static/mathbox/build/mathbox-bundle', graphing: '../../static/graphing/graphing'}\n",
       "    // online compilation without local library-- remove baseUrl\n",
       "    //paths: {mathBox: '//cdn.rawgit.com/unconed/mathbox/eaeb8e15/build/mathbox-bundle'}\n",
       "});\n",
       "\n",
       "// Require commands for 3d plotting\n",
       "require(['graphing'])"
      ],
      "text/plain": [
       "<IPython.core.display.Javascript object>"
      ]
     },
     "metadata": {},
     "output_type": "display_data"
    }
   ],
   "source": [
    "%%javascript\n",
    "\n",
    "// Loading the compiled MathBox bundle.\n",
    "require.config({\n",
    "    //baseUrl:'', paths: { mathBox: '../../tree/static/mathbox/build/mathbox-bundle', graphing: '../../tree/static/graphing/graphing'}\n",
    "    // online compilation\n",
    "    baseUrl: '', paths: {mathBox: '../static/mathbox/build/mathbox-bundle', graphing: '../../static/graphing/graphing'}\n",
    "    // online compilation without local library-- remove baseUrl\n",
    "    //paths: {mathBox: '//cdn.rawgit.com/unconed/mathbox/eaeb8e15/build/mathbox-bundle'}\n",
    "});\n",
    "\n",
    "// Require commands for 3d plotting\n",
    "require(['graphing'])"
   ]
  },
  {
   "cell_type": "markdown",
   "metadata": {
    "collapsed": true
   },
   "source": [
    "# Part IX: Stochastic Gradient Descent\n",
    "\n",
    "We now return to the example of logistic regression, but where we now use two parameters in our model. In particular, we will set\n",
    "\n",
    "$$\n",
    "\\text{prob}(y=1\\vert x;\\beta_0, \\beta_1) = \\text{logit}(\\beta_1 x +\\beta_0)\n",
    "$$\n",
    "and\n",
    "$$\n",
    "\\text{prob}(y=-1\\vert x;\\beta_0, \\beta_1) = \\text{logit}(-\\beta_1 x - \\beta_0)\n",
    "$$\n"
   ]
  },
  {
   "cell_type": "code",
   "execution_count": 3,
   "metadata": {},
   "outputs": [
    {
     "data": {
      "image/png": "[encoded data removed]",
      "text/plain": [
       "<matplotlib.figure.Figure at 0x1167ed240>"
      ]
     },
     "metadata": {},
     "output_type": "display_data"
    }
   ],
   "source": [
    "def logit(x):\n",
    "    return 1/(1+np.exp(-x))\n",
    "\n",
    "b0 = 1\n",
    "b1 = 1\n",
    "\n",
    "t = np.linspace(-10, 10)\n",
    "s = b1 * t + b0\n",
    "plt.plot(s, logit(s))\n",
    "plt.title('Logisitic composed with affine')\n",
    "plt.xlabel('x')\n",
    "plt.ylabel('prob(y=1|x;b0=' + str(b0) + ', b1=' + str(b1) + ')')\n",
    "plt.show()"
   ]
  },
  {
   "cell_type": "markdown",
   "metadata": {},
   "source": [
    "Now suppose we are supplied with data $\\{(x^{(i)}, y^{(i)})\\}_{i=1}^N\\subset\\mathbb{R}\\times\\{-1, 1\\}$, where we assume that $x^{(i)}$ are chosen by some arbitrary process and $y^{(i)}$ is drawn from a Bernoulli trial with the above probability of $y^{(i)}=1, -1$. Our goal is to use this data to infer the true values of $\\beta_0$ and $\\beta_1$. Setting\n",
    "\n",
    "$$\n",
    "{\\bf \\beta} = \\begin{pmatrix}\n",
    "\\beta_0\\\\\n",
    "\\beta_1\n",
    "\\end{pmatrix}\\text{ and } {\\bf x} = \\begin{pmatrix}\n",
    "1\\\\\n",
    "x\n",
    "\\end{pmatrix},\n",
    "$$\n",
    "\n",
    "$\\text{logit}(\\beta_1 x + \\beta_0)=\\text{logit}({\\bf \\beta}^T{\\bf x})$. The maximum likelihood principle leads us to consider the maximization of the likelihood\n",
    "\n",
    "$$\n",
    "\\mathcal{L}({\\bf \\beta}) = \\prod_{i=1}^N \\text{logit}(y^{(i)}{\\bf \\beta}^T {\\bf x}^{(i)})\n",
    "$$\n",
    "\n",
    "and we therefore seek the minimize the negative log-likelihood\n",
    "\n",
    "$$\n",
    "\\ell({\\bf \\beta}) = \\frac{1}{N} \\sum_{i=1}^N \\log\\left(1 + e^{-y^{(i)}{\\bf \\beta}^T {\\bf x}^{(i)}}\\right)\n",
    "$$\n",
    "\n",
    "Let's create some data to display this function\n"
   ]
  },
  {
   "cell_type": "code",
   "execution_count": 4,
   "metadata": {},
   "outputs": [
    {
     "data": {
      "image/png": "[encoded data removed]",
      "text/plain": [
       "<matplotlib.figure.Figure at 0x11a794240>"
      ]
     },
     "metadata": {},
     "output_type": "display_data"
    },
    {
     "data": {
      "application/javascript": [
       "window.X=[0.41022691489211993, -1.353750661329957, -0.34034683099613666, 1.1348513231273916, -1.3782224736074395, 0.11405177488408158, -0.7724984634256314, -0.09297512848047833, 0.7670007856592587, 2.2427600910987766, -0.8880229233360829, 0.9570342423665285, 0.8369286974496271, 0.2561417947452764, -0.6084265414979142, 0.41635526725846905, 0.18397118563051673, 0.21671484075433675, -1.755675202051585, -0.593153272707897, -0.2937618327088862, 0.33132819720424905, -1.160741867389841, 0.13390699696861463, -1.5804230530880006, -0.5461265458984138, 1.2255803738886102, -0.8931019727015704, 0.4270942679103302, -0.831604007471439, -0.956272776390695, 0.28609391179651, -0.30147393514224247, -1.8567009457821102, 2.097768011994303, 1.5419048049745754, -1.0636294756754339, 2.085889646591292, 0.910708659225108, -0.7152913613074519, -0.8900552314302074, -2.3426934134647555, -0.34451901174123434, 1.027830678334448, -0.9218001893854098, 0.5973602301214032, 0.3015881318193843, 0.593488337168829, 0.3685934305368261, -0.3800885777751283, -1.4535828991658823, 0.6018820858320404, 0.503856300755931, 0.7914143375722438, -0.39509979453501565, 0.010671291276888836, 0.2966244137014263, -0.67136406495295, -1.748214984370792, 0.10490173000045885, -1.3595255419523977, -0.8026618025762935, -0.08457697703502835, -0.46177785680035793, 0.5361598883967604, 0.6502086035255265, 0.38538137881044676, 0.33815641915626604, 0.974326043826747, -1.13133489881882, -0.2904006215486254, -0.052280172607321505, 0.22079561940974324, -1.0248325910360916, 0.18542354944056763, -1.1458038016631704, 0.5869141186743846, 0.3000400139128189, 0.6306858724266138, 0.2912431437565824, -1.9051370658676108, 0.7680208137053752, 0.38613032786292356, 1.0600663030686721, -0.03384519306845841, 0.25406581279741114, 0.7413009919868341, 0.42917783556348404, 1.4475935816762011, 1.508118072330724, 1.416181995590147, -1.2207796409088587, 1.4464608020066987, -1.0899442733722269, 0.4653007938058935, -0.9806500415365723, 0.24833546667240727, -1.165094010712369, 1.7121698390720779, 1.7233211028685504];"
      ],
      "text/plain": [
       "<IPython.core.display.Javascript object>"
      ]
     },
     "metadata": {},
     "output_type": "display_data"
    },
    {
     "data": {
      "application/javascript": [
       "window.Y=[1.0, -1.0, 1.0, 1.0, 1.0, 1.0, 1.0, 1.0, 1.0, 1.0, -1.0, 1.0, 1.0, -1.0, -1.0, 1.0, 1.0, 1.0, 1.0, 1.0, 1.0, 1.0, -1.0, -1.0, -1.0, 1.0, 1.0, -1.0, 1.0, 1.0, 1.0, 1.0, -1.0, 1.0, 1.0, 1.0, 1.0, 1.0, 1.0, 1.0, 1.0, -1.0, 1.0, 1.0, 1.0, 1.0, 1.0, 1.0, 1.0, 1.0, 1.0, 1.0, 1.0, 1.0, 1.0, 1.0, 1.0, -1.0, 1.0, 1.0, 1.0, 1.0, 1.0, 1.0, 1.0, -1.0, 1.0, 1.0, 1.0, -1.0, 1.0, -1.0, 1.0, -1.0, 1.0, -1.0, 1.0, 1.0, 1.0, 1.0, -1.0, 1.0, 1.0, 1.0, 1.0, 1.0, 1.0, 1.0, 1.0, 1.0, 1.0, 1.0, 1.0, -1.0, 1.0, 1.0, 1.0, -1.0, 1.0, 1.0];"
      ],
      "text/plain": [
       "<IPython.core.display.Javascript object>"
      ]
     },
     "metadata": {},
     "output_type": "display_data"
    },
    {
     "data": {
      "application/javascript": [
       "window.B=[2, 2];"
      ],
      "text/plain": [
       "<IPython.core.display.Javascript object>"
      ]
     },
     "metadata": {},
     "output_type": "display_data"
    }
   ],
   "source": [
    "N = 100\n",
    "beta = np.array([2, 2]) # The true parameters in the model\n",
    "x = rd.randn(N) # Arbitrary x values\n",
    "\n",
    "# y's drawn randomly\n",
    "y = np.zeros(N)\n",
    "for i in range(N):\n",
    "    if rd.binomial(1,logit(beta.T @ [1, x[i]])) == 1:\n",
    "        y[i] = 1\n",
    "    else:\n",
    "        y[i] = -1\n",
    "        \n",
    "plt.scatter(x, y)\n",
    "plt.show()\n",
    "        \n",
    "jsglobal(X=x)\n",
    "jsglobal(Y=y)\n",
    "jsglobal(B=beta)"
   ]
  },
  {
   "cell_type": "code",
   "execution_count": 5,
   "metadata": {},
   "outputs": [
    {
     "data": {
      "application/javascript": [
       "\n",
       "with_mathbox(element, function(mathbox) {\n",
       "    \n",
       "    var fcn = function(b0, b1) {\n",
       "        \n",
       "        var val = 0;\n",
       "        for (var i = 0; i<X.length; i++) {\n",
       "            val = val + Math.log(1 + Math.exp(-Y[i] * (b1 * X[i] + b0)));\n",
       "        } \n",
       "        \n",
       "        return val / X.length;\n",
       "    }\n",
       "    \n",
       "    var view = plotGraph(mathbox, fcn, 'b0', 'b1', 'l(b0,b1)', [[-3, 3], [-1, 3], [-3, 3]]);\n",
       "    \n",
       "    addPoint(view, [B[0], B[1], 0], 0x3090FF, '(2, 2)');\n",
       "    \n",
       "    addPoint(view, [B[0], B[1], fcn(B[0], B[1])], 0xFF9030, 'Objective at True Parameter')\n",
       "     \n",
       "})"
      ],
      "text/plain": [
       "<IPython.core.display.Javascript object>"
      ]
     },
     "metadata": {},
     "output_type": "display_data"
    }
   ],
   "source": [
    "%%javascript\n",
    "\n",
    "with_mathbox(element, function(mathbox) {\n",
    "    \n",
    "    var fcn = function(b0, b1) {\n",
    "        \n",
    "        var val = 0;\n",
    "        for (var i = 0; i<X.length; i++) {\n",
    "            val = val + Math.log(1 + Math.exp(-Y[i] * (b1 * X[i] + b0)));\n",
    "        } \n",
    "        \n",
    "        return val / X.length;\n",
    "    }\n",
    "    \n",
    "    var view = plotGraph(mathbox, fcn, 'b0', 'b1', 'l(b0,b1)', [[-3, 3], [-1, 3], [-3, 3]]);\n",
    "    \n",
    "    addPoint(view, [B[0], B[1], 0], 0x3090FF, '(2, 2)');\n",
    "    \n",
    "    addPoint(view, [B[0], B[1], fcn(B[0], B[1])], 0xFF9030, 'Objective at True Parameter')\n",
    "     \n",
    "})"
   ]
  },
  {
   "cell_type": "markdown",
   "metadata": {},
   "source": [
    "We can generate data and view the objective function determined by that data. We can also illustrate the convergence of stochastic gradient descent."
   ]
  },
  {
   "cell_type": "code",
   "execution_count": 6,
   "metadata": {},
   "outputs": [
    {
     "data": {
      "application/javascript": [
       "window.SGD=[[0.0, 0.0, 0.0], [1.264911064067352, 0.30637259260113814, 0.0], [1.449650073921513, 0.39295003715784377, 0.0], [1.5329926778037457, 0.48883150298678957, 0.0], [1.6261134581944845, 0.4511416679321979, 0.0], [1.6332943366375539, 0.5603926967624864, 0.0], [1.6430011596983631, 0.6150632743328042, 0.0], [1.7181313003353706, 0.5586466601505746, 0.0], [1.748479315122015, 0.5595458016069108, 0.0], [1.8091477548372346, 0.5303260707154673, 0.0], [1.8354711346478683, 0.542154715666525, 0.0], [1.863273039521231, 0.5450811549309428, 0.0], [1.8636257924603528, 0.5548206818481161, 0.0], [1.8676461246048397, 0.5600561157251386, 0.0], [1.8811994139530193, 0.5623260728303643, 0.0], [1.8967888785525924, 0.5722429453687591, 0.0], [1.9157847479792742, 0.5725497911417172, 0.0], [1.9340116032396446, 0.5698154449417151, 0.0], [1.944305893389636, 0.5748451412504406, 0.0], [1.9419490542015767, 0.5825278199039107, 0.0], [1.9609529189516812, 0.5826929935942309, 0.0], [1.974017011559962, 0.5838072219270679, 0.0], [1.973397277060649, 0.5956242271614172, 0.0], [1.9866706001077594, 0.5951103462159408, 0.0], [2.002360197874167, 0.5852904491118858, 0.0], [2.0146894945014817, 0.5812575806061261, 0.0], [2.031786958237058, 0.5706271566635257, 0.0], [2.036496096514163, 0.5796608872800729, 0.0], [2.049966463100168, 0.5755845838021205, 0.0], [2.0526065856835545, 0.572489422309209, 0.0], [2.0524717841746583, 0.5793473549941295, 0.0], [2.0497736463141547, 0.5935784206727884, 0.0], [2.04876734299313, 0.6010553197723786, 0.0], [2.054819463597168, 0.5999784250508808, 0.0], [2.0581856146971904, 0.604869172650849, 0.0], [2.063894223907828, 0.6044336976310448, 0.0], [2.0723778288358923, 0.6012619570247811, 0.0], [2.0788176300649024, 0.5978772695460486, 0.0], [2.0871457856545605, 0.5974438894000406, 0.0], [2.0887813907941726, 0.6039762676037785, 0.0], [2.0883049783550716, 0.6082058975548119, 0.0], [2.0933839754232504, 0.6124318977023052, 0.0], [2.0955067711437105, 0.6151434733278746, 0.0], [2.1020833033528015, 0.6092924517931325, 0.0], [2.103587262466295, 0.6171419248042402, 0.0], [2.1080368897468955, 0.618768247091871, 0.0], [2.113350168783609, 0.618980365016571, 0.0], [2.115966481620359, 0.6217138832565634, 0.0], [2.114904601250873, 0.626464880060436, 0.0], [2.121258550314653, 0.624986070959826, 0.0], [2.1220135121149597, 0.6287955198092878, 0.0], [2.126533297275745, 0.622585744090955, 0.0], [2.1273656269727708, 0.625464192163884, 0.0], [2.131887522368385, 0.6219011409389013, 0.0], [2.13479130011941, 0.6199298386719612, 0.0], [2.13684840111463, 0.6224951387803642, 0.0], [2.1438453660507615, 0.6188701724287325, 0.0], [2.1480922152373867, 0.615644716844218, 0.0], [2.1517362188589675, 0.6165861787764217, 0.0], [2.1544879095728597, 0.6174830658109804, 0.0], [2.1593304196291667, 0.6157902542694593, 0.0], [2.163479539126332, 0.6159817348750779, 0.0], [2.1690400692997045, 0.6146587041475363, 0.0], [2.1700232855383397, 0.6168920859476512, 0.0], [2.1730300469869714, 0.6176677845951001, 0.0], [2.1726440807314717, 0.6213018703629538, 0.0], [2.172346719749115, 0.6239318670145177, 0.0], [2.1743614588719318, 0.6261730472126977, 0.0], [2.17775209702188, 0.6237477434703922, 0.0], [2.182427874816627, 0.6230496610581799, 0.0], [2.183844075299527, 0.6252527788011895, 0.0], [2.187268519120585, 0.6246985722662445, 0.0], [2.190271156678521, 0.623060164105573, 0.0], [2.1904168942353723, 0.6257321402919702, 0.0], [2.1915077257287168, 0.6264895760167306, 0.0], [2.193051791633935, 0.6281148383358635, 0.0], [2.1927222815962932, 0.6331271535709713, 0.0], [2.1968195982701224, 0.6317995611724413, 0.0], [2.1997169784357373, 0.6321287292064741, 0.0], [2.2030427979910354, 0.6307127389200853, 0.0], [2.203549892510452, 0.6326145216829339, 0.0], [2.2053223124518473, 0.6327967042257521, 0.0], [2.207969781748736, 0.6340113394335315, 0.0], [2.2093929699828694, 0.6347742001420825, 0.0], [2.213844574827852, 0.6320238866515228, 0.0], [2.2169150156660153, 0.6307317754499125, 0.0], [2.2202473593947634, 0.629481787866924, 0.0], [2.2229708943814077, 0.6295882170601755, 0.0], [2.2247872594368356, 0.6300438398305643, 0.0], [2.227699645932984, 0.6273618201902835, 0.0], [2.2303586360163097, 0.6268165980609869, 0.0], [2.2307152718946477, 0.6288720391048569, 0.0], [2.2316343778579064, 0.6287533600123317, 0.0], [2.233930794288163, 0.6286688394041854, 0.0], [2.2346600701410835, 0.6294477998086323, 0.0], [2.234538608011899, 0.630809257488855, 0.0], [2.2369416121533074, 0.6308396466469776, 0.0], [2.2374376030667085, 0.6319599022298655, 0.0], [2.2404958446564667, 0.6300113801906873, 0.0], [2.242999134813045, 0.627993828335375, 0.0]];"
      ],
      "text/plain": [
       "<IPython.core.display.Javascript object>"
      ]
     },
     "metadata": {},
     "output_type": "display_data"
    }
   ],
   "source": [
    "X_data = np.vstack([np.ones(N), x])\n",
    "y_data = y\n",
    "\n",
    "M = 10 # Number of indices to randomly select for each step\n",
    "\n",
    "def dNLL(beta, X, y):\n",
    "    return -X @ (y * logit(-beta.T @ X)) / M\n",
    "\n",
    "iterations = 100\n",
    "\n",
    "betas_sgd = np.zeros((iterations, 3))\n",
    "\n",
    "for i in range(1,iterations):\n",
    "    idxs = rd.choice(N, M, replace=False)\n",
    "    betas_sgd[i,:2] = betas_sgd[i-1,:2] - np.sqrt(M)*dNLL(betas_sgd[i-1,:2].T, X_data[:,idxs], y_data[idxs])/i\n",
    "\n",
    "jsglobal(SGD=betas_sgd)"
   ]
  },
  {
   "cell_type": "code",
   "execution_count": 7,
   "metadata": {},
   "outputs": [
    {
     "data": {
      "application/javascript": [
       "\n",
       "with_mathbox(element, function(mathbox) {\n",
       "    \n",
       "    var fcn = function(b0, b1) {\n",
       "        \n",
       "        var val = 0;\n",
       "        for (var i = 0; i<X.length; i++) {\n",
       "            val = val + Math.log(1 + Math.exp(-Y[i] * (b1 * X[i] + b0)));\n",
       "        } \n",
       "        \n",
       "        return val / X.length;\n",
       "    }\n",
       "    \n",
       "    var view = plotGraph(mathbox, fcn, 'b0', 'b1', 'l(b0,b1)', [[-3, 3], [-1, 3], [-3, 3]]);\n",
       "    \n",
       "    addPoint(view, [B[0], B[1], 0], 0x3090FF, '(2, 2)');\n",
       "    \n",
       "    addPoint(view, [B[0], B[1], fcn(B[0], B[1])], 0xFF9030, 'Objective at True Parameter');\n",
       "    \n",
       "    addSequence(view, SGD, 0xFF0000);\n",
       "     \n",
       "})"
      ],
      "text/plain": [
       "<IPython.core.display.Javascript object>"
      ]
     },
     "metadata": {},
     "output_type": "display_data"
    }
   ],
   "source": [
    "%%javascript\n",
    "\n",
    "with_mathbox(element, function(mathbox) {\n",
    "    \n",
    "    var fcn = function(b0, b1) {\n",
    "        \n",
    "        var val = 0;\n",
    "        for (var i = 0; i<X.length; i++) {\n",
    "            val = val + Math.log(1 + Math.exp(-Y[i] * (b1 * X[i] + b0)));\n",
    "        } \n",
    "        \n",
    "        return val / X.length;\n",
    "    }\n",
    "    \n",
    "    var view = plotGraph(mathbox, fcn, 'b0', 'b1', 'l(b0,b1)', [[-3, 3], [-1, 3], [-3, 3]]);\n",
    "    \n",
    "    addPoint(view, [B[0], B[1], 0], 0x3090FF, '(2, 2)');\n",
    "    \n",
    "    addPoint(view, [B[0], B[1], fcn(B[0], B[1])], 0xFF9030, 'Objective at True Parameter');\n",
    "    \n",
    "    addSequence(view, SGD, 0xFF0000);\n",
    "     \n",
    "})"
   ]
  },
  {
   "cell_type": "markdown",
   "metadata": {},
   "source": []
  }
 ],
 "metadata": {
  "anaconda-cloud": {},
  "kernelspec": {
   "display_name": "Python [default]",
   "language": "python",
   "name": "python3"
  },
  "language_info": {
   "codemirror_mode": {
    "name": "ipython",
    "version": 3
   },
   "file_extension": ".py",
   "mimetype": "text/x-python",
   "name": "python",
   "nbconvert_exporter": "python",
   "pygments_lexer": "ipython3",
   "version": "3.5.3"
  }
 },
 "nbformat": 4,
 "nbformat_minor": 1
}

{
 "cells": [
  {
   "cell_type": "code",
   "execution_count": 1,
   "metadata": {
    "collapsed": true
   },
   "outputs": [],
   "source": [
    "'''\n",
    "This code imports numpy packages and allows us to pass data from python to global javascript\n",
    "objects. It was developed by znah@github\n",
    "'''\n",
    "\n",
    "import json\n",
    "import numpy as np\n",
    "import numpy.random as rd\n",
    "import matplotlib.pyplot as plt\n",
    "\n",
    "from ipywidgets import widgets\n",
    "from IPython.display import HTML, Javascript, display\n",
    "\n",
    "def json_numpy_serializer(o):\n",
    "    if isinstance(o, np.ndarray):\n",
    "        return o.tolist()\n",
    "    raise TypeError(\"{} of type {} is not JSON serializable\".format(repr(o), type(o)))\n",
    "\n",
    "def jsglobal(**params):\n",
    "    code = [];\n",
    "    for name, value in params.items():\n",
    "        jsdata = json.dumps(value, default=json_numpy_serializer)\n",
    "        code.append(\"window.{}={};\".format(name, jsdata))\n",
    "    display(Javascript(\"\\n\".join(code)))"
   ]
  },
  {
   "cell_type": "code",
   "execution_count": 2,
   "metadata": {},
   "outputs": [
    {
     "data": {
      "application/javascript": [
       "\n",
       "// Loading the compiled MathBox bundle.\n",
       "require.config({\n",
       "    baseUrl:'', paths: {mathBox: '../../tree/static/mathbox/build/mathbox-bundle'}\n",
       "    // online compilation\n",
       "    //baseUrl: '', paths: {mathBox: '../static/mathbox/build/mathbox-bundle'}\n",
       "    // online compilation without local library-- remove baseUrl\n",
       "    //paths: {mathBox: '//cdn.rawgit.com/unconed/mathbox/eaeb8e15/build/mathbox-bundle'}\n",
       "});\n",
       "\n",
       "// Minified graphing functions\n",
       "\n",
       "window.with_mathbox=function(element,func){require(['mathBox'],function(){var mathbox=mathBox({plugins:['core','controls','cursor','mathbox'],controls:{klass:THREE.OrbitControls},mathbox:{inspect:!1},element:element[0],loop:{start:!1},});var three=mathbox.three;three.renderer.setClearColor(new THREE.Color(0xFFFFFF),1.0);three.camera.position.set(-1,1,2);three.controls.noKeys=!0;three.element.style.height=\"400px\";three.element.style.width=\"100%\";function isInViewport(element){var rect=element.getBoundingClientRect();var html=document.documentElement;var w=window.innerWidth||html.clientWidth;var h=window.innerHeight||html.clientHeight;return rect.top<h&&rect.left<w&&rect.bottom>0&&rect.right>0}\n",
       "var intervalId=setInterval(function(){if(three.element.offsetParent===null){clearInterval(intervalId);three.destroy();return}\n",
       "var visible=isInViewport(three.canvas);if(three.Loop.running!=visible){visible?three.Loop.start():three.Loop.stop()}},100);func(mathbox);window.dispatchEvent(new Event('resize'))})};window.plotGraph=function(mathbox,f,xlabel='x',ylabel='y',zlabel='f(x,y)',rng=[[-3,3],[-5,5],[-3,3]]){var view=mathbox.cartesian({range:rng,scale:[1,1,1]},{rotation:(t)=>[0,t*0.02,0]}).grid({axes:[1,3]})\n",
       "view.area({id:'yaxis',width:1,height:1,axes:[1,3],expr:function(emit,x,y,i,j){emit(4,0,0);emit(0,0,0)},items:2,channels:3,}).text({font:'Helvetica',style:'bold',width:16,height:5,depth:2,expr:function(emit,i,j,k,time){emit(ylabel)},}).label({color:'#000000',snap:!1,outline:2,size:24,offset:[0,-32],depth:.5,zIndex:1});view.vector({points:'#yaxis',color:0x000000,width:9,start:!0});view.area({id:'xaxis',width:1,height:1,axes:[1,3],expr:function(emit,x,y,i,j){emit(0,0,4);emit(0,0,0)},items:2,channels:3,}).text({font:'Helvetica',style:'bold',width:16,height:5,depth:2,expr:function(emit,i,j,k,time){emit(xlabel)},}).label({color:'#000000',snap:!1,outline:2,size:24,offset:[0,-32],depth:.5,zIndex:1,});view.vector({points:'#xaxis',color:0x000000,width:9,start:!0,});view.area({id:'zaxis',width:1,height:1,axes:[1,3],expr:function(emit,x,y,i,j){emit(0,4,0);emit(0,0,0)},items:2,channels:3,}).text({font:'Helvetica',style:'bold',width:16,height:5,depth:2,expr:function(emit,i,j,k,time){emit(zlabel)},}).label({color:'#000000',snap:!1,outline:2,size:24,offset:[0,-32],depth:.5,zIndex:1,});view.vector({points:'#zaxis',color:0x000000,width:9,start:!0,});var graph=view.area({id:'graph',width:64,height:64,axes:[1,3],expr:function(emit,y,x,i,j){emit(y,f(x,y),x)},items:1,channels:3,});view.surface({shaded:!0,lineX:!0,lineY:!0,points:graph,color:0x0000FF,width:1,});return view};window.addSegment=function(view,p0,p1,col){view.array({width:128,expr:function(emit,i,time){var b=i/128;var a=1-b;emit(a*p0[1]+b*p1[1],a*p0[2]+b*p1[2],a*p0[0]+b*p1[0])},channels:3,});view.line({color:col,width:10,size:2.5,stroke:'dotted',start:!1,end:!1,})};window.addPoint=function(view,p,col,label){view.array({width:4,items:2,channels:3,expr:function(emit,i,t){emit(p[1],p[2],p[0])},}).point({color:col,points:'<',size:15,depth:.5,zBias:50,}).text({font:'Helvetica',style:'bold',width:16,height:5,depth:2,expr:function(emit,i,j,k,time){emit(label)},}).label({color:col,snap:!1,outline:2,size:24,offset:[0,-32],depth:.5,zIndex:1,})};window.addCurve=function(view,ab,x,y,z,col){view.array({width:128,expr:function(emit,i,time){var t=(ab[1]-ab[0])*(i/128)+ab[0];emit(y(t),z(t),x(t))},channels:3,});view.line({color:col,width:20,size:2.5,start:!0,end:!0,})};window.addClosedCurve=function(view,ab,x,y,z,col){view.array({width:128,expr:function(emit,i,time){var t=(ab[1]-ab[0])*(i/128)+ab[0];emit(y(t),z(t),x(t))},channels:3,});view.line({color:col,width:20,size:2.5,start:!1,end:!1,})};window.addSurface=function(view,ab,cd,x,y,z,col,opa){view.matrix({width:64,height:64,expr:function(emit,i,j,time){var p=(ab[1]-ab[0])*(i/64)+ab[0];var q=(cd[1]-cd[0])*(j/64)+cd[0];emit(y(p,q),z(p,q),x(p,q))},items:1,channels:3}).surface({shaded:!0,lineX:!1,lineY:!1,color:col,width:1,opacity:opa})}\n",
       "window.addSequence=function(view,seq,col){var idx=0;var d=new Date();var start=d.getTime();view.array({width:1,expr:function(emit,i,time){var nd=new Date();var now=nd.getTime();if(1000<now-start){idx=idx+1;if(seq.length<=idx){idx=0}\n",
       "start=now}\n",
       "emit(seq[idx][1],seq[idx][2],seq[idx][0])},items:1,channels:3}).point({color:col,points:'<',size:15,depth:.5,zBias:50,})}"
      ],
      "text/plain": [
       "<IPython.core.display.Javascript object>"
      ]
     },
     "metadata": {},
     "output_type": "display_data"
    }
   ],
   "source": [
    "%%javascript\n",
    "\n",
    "// Loading the compiled MathBox bundle.\n",
    "require.config({\n",
    "    //baseUrl:'', paths: {mathBox: '../../tree/static/mathbox/build/mathbox-bundle'}\n",
    "    // online compilation\n",
    "    baseUrl: '', paths: {mathBox: '../static/mathbox/build/mathbox-bundle'}\n",
    "    // online compilation without local library-- remove baseUrl\n",
    "    //paths: {mathBox: '//cdn.rawgit.com/unconed/mathbox/eaeb8e15/build/mathbox-bundle'}\n",
    "});\n",
    "\n",
    "// Minified graphing functions\n",
    "\n",
    "window.with_mathbox=function(element,func){require(['mathBox'],function(){var mathbox=mathBox({plugins:['core','controls','cursor','mathbox'],controls:{klass:THREE.OrbitControls},mathbox:{inspect:!1},element:element[0],loop:{start:!1},});var three=mathbox.three;three.renderer.setClearColor(new THREE.Color(0xFFFFFF),1.0);three.camera.position.set(-1,1,2);three.controls.noKeys=!0;three.element.style.height=\"400px\";three.element.style.width=\"100%\";function isInViewport(element){var rect=element.getBoundingClientRect();var html=document.documentElement;var w=window.innerWidth||html.clientWidth;var h=window.innerHeight||html.clientHeight;return rect.top<h&&rect.left<w&&rect.bottom>0&&rect.right>0}\n",
    "var intervalId=setInterval(function(){if(three.element.offsetParent===null){clearInterval(intervalId);three.destroy();return}\n",
    "var visible=isInViewport(three.canvas);if(three.Loop.running!=visible){visible?three.Loop.start():three.Loop.stop()}},100);func(mathbox);window.dispatchEvent(new Event('resize'))})};window.plotGraph=function(mathbox,f,xlabel='x',ylabel='y',zlabel='f(x,y)',rng=[[-3,3],[-5,5],[-3,3]]){var view=mathbox.cartesian({range:rng,scale:[1,1,1]},{rotation:(t)=>[0,t*0.02,0]}).grid({axes:[1,3]})\n",
    "view.area({id:'yaxis',width:1,height:1,axes:[1,3],expr:function(emit,x,y,i,j){emit(4,0,0);emit(0,0,0)},items:2,channels:3,}).text({font:'Helvetica',style:'bold',width:16,height:5,depth:2,expr:function(emit,i,j,k,time){emit(ylabel)},}).label({color:'#000000',snap:!1,outline:2,size:24,offset:[0,-32],depth:.5,zIndex:1});view.vector({points:'#yaxis',color:0x000000,width:9,start:!0});view.area({id:'xaxis',width:1,height:1,axes:[1,3],expr:function(emit,x,y,i,j){emit(0,0,4);emit(0,0,0)},items:2,channels:3,}).text({font:'Helvetica',style:'bold',width:16,height:5,depth:2,expr:function(emit,i,j,k,time){emit(xlabel)},}).label({color:'#000000',snap:!1,outline:2,size:24,offset:[0,-32],depth:.5,zIndex:1,});view.vector({points:'#xaxis',color:0x000000,width:9,start:!0,});view.area({id:'zaxis',width:1,height:1,axes:[1,3],expr:function(emit,x,y,i,j){emit(0,4,0);emit(0,0,0)},items:2,channels:3,}).text({font:'Helvetica',style:'bold',width:16,height:5,depth:2,expr:function(emit,i,j,k,time){emit(zlabel)},}).label({color:'#000000',snap:!1,outline:2,size:24,offset:[0,-32],depth:.5,zIndex:1,});view.vector({points:'#zaxis',color:0x000000,width:9,start:!0,});var graph=view.area({id:'graph',width:64,height:64,axes:[1,3],expr:function(emit,y,x,i,j){emit(y,f(x,y),x)},items:1,channels:3,});view.surface({shaded:!0,lineX:!0,lineY:!0,points:graph,color:0x0000FF,width:1,});return view};window.addSegment=function(view,p0,p1,col){view.array({width:128,expr:function(emit,i,time){var b=i/128;var a=1-b;emit(a*p0[1]+b*p1[1],a*p0[2]+b*p1[2],a*p0[0]+b*p1[0])},channels:3,});view.line({color:col,width:10,size:2.5,stroke:'dotted',start:!1,end:!1,})};window.addPoint=function(view,p,col,label){view.array({width:4,items:2,channels:3,expr:function(emit,i,t){emit(p[1],p[2],p[0])},}).point({color:col,points:'<',size:15,depth:.5,zBias:50,}).text({font:'Helvetica',style:'bold',width:16,height:5,depth:2,expr:function(emit,i,j,k,time){emit(label)},}).label({color:col,snap:!1,outline:2,size:24,offset:[0,-32],depth:.5,zIndex:1,})};window.addCurve=function(view,ab,x,y,z,col){view.array({width:128,expr:function(emit,i,time){var t=(ab[1]-ab[0])*(i/128)+ab[0];emit(y(t),z(t),x(t))},channels:3,});view.line({color:col,width:20,size:2.5,start:!0,end:!0,})};window.addClosedCurve=function(view,ab,x,y,z,col){view.array({width:128,expr:function(emit,i,time){var t=(ab[1]-ab[0])*(i/128)+ab[0];emit(y(t),z(t),x(t))},channels:3,});view.line({color:col,width:20,size:2.5,start:!1,end:!1,})};window.addSurface=function(view,ab,cd,x,y,z,col,opa){view.matrix({width:64,height:64,expr:function(emit,i,j,time){var p=(ab[1]-ab[0])*(i/64)+ab[0];var q=(cd[1]-cd[0])*(j/64)+cd[0];emit(y(p,q),z(p,q),x(p,q))},items:1,channels:3}).surface({shaded:!0,lineX:!1,lineY:!1,color:col,width:1,opacity:opa})}\n",
    "window.addSequence=function(view,seq,col){var idx=0;var d=new Date();var start=d.getTime();view.array({width:1,expr:function(emit,i,time){var nd=new Date();var now=nd.getTime();if(1000<now-start){idx=idx+1;if(seq.length<=idx){idx=0}\n",
    "start=now}\n",
    "emit(seq[idx][1],seq[idx][2],seq[idx][0])},items:1,channels:3}).point({color:col,points:'<',size:15,depth:.5,zBias:50,})}"
   ]
  },
  {
   "cell_type": "markdown",
   "metadata": {
    "collapsed": true
   },
   "source": [
    "# Part IX: Stochastic Gradient Descent\n",
    "\n",
    "We now return to the example of logistic regression, but where we now use two parameters in our model. In particular, we will set\n",
    "\n",
    "$$\n",
    "\\text{prob}(y=1\\vert x;\\beta_0, \\beta_1) = \\text{logit}(\\beta_1 x +\\beta_0)\n",
    "$$\n",
    "and\n",
    "$$\n",
    "\\text{prob}(y=-1\\vert x;\\beta_0, \\beta_1) = \\text{logit}(-\\beta_1 x - \\beta_0)\n",
    "$$\n"
   ]
  },
  {
   "cell_type": "code",
   "execution_count": 3,
   "metadata": {},
   "outputs": [
    {
     "data": {
      "image/png": "[encoded data removed]",
      "text/plain": [
       "<matplotlib.figure.Figure at 0x10d43fe48>"
      ]
     },
     "metadata": {},
     "output_type": "display_data"
    }
   ],
   "source": [
    "def logit(x):\n",
    "    return 1/(1+np.exp(-x))\n",
    "\n",
    "b0 = 1\n",
    "b1 = 1\n",
    "\n",
    "t = np.linspace(-10, 10)\n",
    "s = b1 * t + b0\n",
    "plt.plot(s, logit(s))\n",
    "plt.title('Logisitic composed with affine')\n",
    "plt.xlabel('x')\n",
    "plt.ylabel('prob(y=1|x;b0=' + str(b0) + ', b1=' + str(b1) + ')')\n",
    "plt.show()"
   ]
  },
  {
   "cell_type": "markdown",
   "metadata": {},
   "source": [
    "Now suppose we are supplied with data $\\{(x^{(i)}, y^{(i)})\\}_{i=1}^N\\subset\\mathbb{R}\\times\\{-1, 1\\}$, where we assume that $x^{(i)}$ are chosen by some arbitrary process and $y^{(i)}$ is drawn from a Bernoulli trial with the above probability of $y^{(i)}=1, -1$. Our goal is to use this data to infer the true values of $\\beta_0$ and $\\beta_1$. Setting\n",
    "\n",
    "$$\n",
    "{\\bf \\beta} = \\begin{pmatrix}\n",
    "\\beta_0\\\\\n",
    "\\beta_1\n",
    "\\end{pmatrix}\\text{ and } {\\bf x} = \\begin{pmatrix}\n",
    "1\\\\\n",
    "x\n",
    "\\end{pmatrix},\n",
    "$$\n",
    "\n",
    "$\\text{logit}(\\beta_1 x + \\beta_0)=\\text{logit}({\\bf \\beta}^T{\\bf x})$. The maximum likelihood principle leads us to consider the maximization of the likelihood\n",
    "\n",
    "$$\n",
    "\\mathcal{L}({\\bf \\beta}) = \\prod_{i=1}^N \\text{logit}(y^{(i)}{\\bf \\beta}^T {\\bf x}^{(i)})\n",
    "$$\n",
    "\n",
    "and we therefore seek the minimize the negative log-likelihood\n",
    "\n",
    "$$\n",
    "\\ell({\\bf \\beta}) = \\frac{1}{N} \\sum_{i=1}^N \\log\\left(1 + e^{-y^{(i)}{\\bf \\beta}^T {\\bf x}^{(i)}}\\right)\n",
    "$$\n",
    "\n",
    "Let's create some data to display this function\n"
   ]
  },
  {
   "cell_type": "code",
   "execution_count": 4,
   "metadata": {},
   "outputs": [
    {
     "data": {
      "image/png": "[encoded data removed]",
      "text/plain": [
       "<matplotlib.figure.Figure at 0x11092a278>"
      ]
     },
     "metadata": {},
     "output_type": "display_data"
    },
    {
     "data": {
      "application/javascript": [
       "window.X=[0.2862790425411619, -0.2966889331091701, 1.0789985930326234, -0.38268309506474496, 1.133292200500555, 0.3174630874617944, 0.609545035718482, -0.2791194898997712, 0.295026913542312, 0.37769266525763695, 1.1589603824597123, 0.05822504208688366, 0.9779481096569743, 0.16797718286977464, -0.35017218880602835, 2.31804180953325, 0.31541647408096735, -1.0217685441888176, -0.9543153037055823, -1.7065161928039163, 0.20387009282518323, -1.0805425838675042, 0.3912383127751719, 0.6171445441841074, -0.1774102276932199, 3.7540959870241575, -1.0989866686629197, -0.6379770841467011, 0.5735167363611201, 0.7824655621175821, -0.5257234634115621, -0.8852027840645463, -0.154466188098802, 1.3642894890350747, -1.7034112052251027, -0.8515751551322767, 1.6446848983831501, -0.015806504070526167, 0.2800702537814631, 0.6731834939750332, -0.030527428325199158, -0.14192396080042624, 1.1206930501261771, 0.6182698454359613, 0.006107768567798856, -0.3717997595421068, 1.0335163290287408, 1.1273424858404175, -2.847174738179408, 0.5796018114332395, -0.7935512038842485, 0.5139049758372849, 0.09115382033384849, -1.908691786761217, 0.33712671230490465, 0.7437048053865786, 0.5330398512333664, -0.05158278295392316, 1.204330900342884, -0.5941054118323945, -1.2431806715578464, -0.11678126662116459, -0.5765874710198154, -1.4500484781562042, 0.18015545013523362, -0.8165410222207116, 0.826726320605334, 0.03715798440908559, 0.08873222788152402, 0.43831165207357703, 0.7977637300726138, 1.0703251260066153, 0.6807641719404549, 0.4576303107845588, -0.6651289009267315, -0.7077384723903415, -0.3872796653074394, 0.21397540899452164, 4.850617244755303e-05, -0.37636509092629994, -0.17743565116925597, 0.37609430614558187, 0.6706377518376809, 0.5828961422656649, 0.6377585007559423, -0.20667824899984863, 0.2833261943600038, -0.5299143894460433, -0.8069730005687292, 0.16848386513459895, 1.140609990640165, 1.6150815309180515, -0.12995162603609875, -0.41980485765553044, 0.6921119436897067, 0.7402533541125188, -0.7936622167188929, 0.7416250813480225, 0.5816094646944593, -1.2640260400554584];"
      ],
      "text/plain": [
       "<IPython.core.display.Javascript object>"
      ]
     },
     "metadata": {},
     "output_type": "display_data"
    },
    {
     "data": {
      "application/javascript": [
       "window.Y=[1.0, -1.0, 1.0, -1.0, 1.0, 1.0, 1.0, 1.0, 1.0, -1.0, 1.0, -1.0, 1.0, 1.0, -1.0, 1.0, 1.0, 1.0, 1.0, -1.0, 1.0, -1.0, 1.0, 1.0, -1.0, 1.0, -1.0, -1.0, 1.0, 1.0, 1.0, -1.0, 1.0, 1.0, 1.0, 1.0, 1.0, 1.0, 1.0, 1.0, 1.0, 1.0, 1.0, 1.0, -1.0, 1.0, 1.0, 1.0, -1.0, 1.0, 1.0, 1.0, 1.0, -1.0, 1.0, 1.0, 1.0, -1.0, 1.0, 1.0, -1.0, 1.0, 1.0, -1.0, 1.0, 1.0, 1.0, 1.0, 1.0, 1.0, 1.0, 1.0, 1.0, 1.0, 1.0, 1.0, -1.0, 1.0, 1.0, 1.0, 1.0, 1.0, 1.0, 1.0, 1.0, -1.0, 1.0, 1.0, 1.0, 1.0, 1.0, 1.0, 1.0, -1.0, 1.0, 1.0, 1.0, 1.0, 1.0, 1.0];"
      ],
      "text/plain": [
       "<IPython.core.display.Javascript object>"
      ]
     },
     "metadata": {},
     "output_type": "display_data"
    },
    {
     "data": {
      "application/javascript": [
       "window.B=[2, 2];"
      ],
      "text/plain": [
       "<IPython.core.display.Javascript object>"
      ]
     },
     "metadata": {},
     "output_type": "display_data"
    }
   ],
   "source": [
    "N = 100\n",
    "beta = np.array([2, 2]) # The true parameters in the model\n",
    "x = rd.randn(N) # Arbitrary x values\n",
    "\n",
    "# y's drawn randomly\n",
    "y = np.zeros(N)\n",
    "for i in range(N):\n",
    "    if rd.binomial(1,logit(beta.T @ [1, x[i]])) == 1:\n",
    "        y[i] = 1\n",
    "    else:\n",
    "        y[i] = -1\n",
    "        \n",
    "plt.scatter(x, y)\n",
    "plt.show()\n",
    "        \n",
    "jsglobal(X=x)\n",
    "jsglobal(Y=y)\n",
    "jsglobal(B=beta)"
   ]
  },
  {
   "cell_type": "code",
   "execution_count": 5,
   "metadata": {},
   "outputs": [
    {
     "data": {
      "application/javascript": [
       "\n",
       "with_mathbox(element, function(mathbox) {\n",
       "    \n",
       "    var fcn = function(b0, b1) {\n",
       "        \n",
       "        var val = 0;\n",
       "        for (var i = 0; i<X.length; i++) {\n",
       "            val = val + Math.log(1 + Math.exp(-Y[i] * (b1 * X[i] + b0)));\n",
       "        } \n",
       "        \n",
       "        return val / X.length;\n",
       "    }\n",
       "    \n",
       "    var view = plotGraph(mathbox, fcn, 'b0', 'b1', 'l(b0,b1)', [[-3, 3], [-1, 3], [-3, 3]]);\n",
       "    \n",
       "    addPoint(view, [B[0], B[1], 0], 0x3090FF, '(2, 2)');\n",
       "    \n",
       "    addPoint(view, [B[0], B[1], fcn(B[0], B[1])], 0xFF9030, 'Objective at True Parameter')\n",
       "     \n",
       "})"
      ],
      "text/plain": [
       "<IPython.core.display.Javascript object>"
      ]
     },
     "metadata": {},
     "output_type": "display_data"
    }
   ],
   "source": [
    "%%javascript\n",
    "\n",
    "with_mathbox(element, function(mathbox) {\n",
    "    \n",
    "    var fcn = function(b0, b1) {\n",
    "        \n",
    "        var val = 0;\n",
    "        for (var i = 0; i<X.length; i++) {\n",
    "            val = val + Math.log(1 + Math.exp(-Y[i] * (b1 * X[i] + b0)));\n",
    "        } \n",
    "        \n",
    "        return val / X.length;\n",
    "    }\n",
    "    \n",
    "    var view = plotGraph(mathbox, fcn, 'b0', 'b1', 'l(b0,b1)', [[-3, 3], [-1, 3], [-3, 3]]);\n",
    "    \n",
    "    addPoint(view, [B[0], B[1], 0], 0x3090FF, '(2, 2)');\n",
    "    \n",
    "    addPoint(view, [B[0], B[1], fcn(B[0], B[1])], 0xFF9030, 'Objective at True Parameter')\n",
    "     \n",
    "})"
   ]
  },
  {
   "cell_type": "markdown",
   "metadata": {},
   "source": [
    "We can generate data and view the objective function determined by that data. We can also illustrate the convergence of stochastic gradient descent."
   ]
  },
  {
   "cell_type": "code",
   "execution_count": 6,
   "metadata": {},
   "outputs": [
    {
     "data": {
      "application/javascript": [
       "window.SGD=[[0.0, 0.0, 0.0], [0.316227766016838, 0.4175295940862738, 0.0], [0.7252680842902868, 0.36378918723644027, 0.0], [0.9789205949812823, 0.4311996959539793, 0.0], [1.145895075796751, 0.4363229776098234, 0.0], [1.2334699082843037, 0.4970983315057317, 0.0], [1.2916274300657145, 0.5908677460160509, 0.0], [1.347669919346122, 0.6369329446338031, 0.0], [1.4280259914925129, 0.6139394355878529, 0.0], [1.4502715537727502, 0.6454253288388024, 0.0], [1.4622696311300853, 0.7048080499818279, 0.0], [1.5085150550955946, 0.7110005446834452, 0.0], [1.555909869420739, 0.7055765631688867, 0.0], [1.5564817402492743, 0.7192537943565895, 0.0], [1.5900791021128464, 0.7081607923921963, 0.0], [1.6238440515294148, 0.7047400686393109, 0.0], [1.6385791945726471, 0.7318647753715126, 0.0], [1.642943404082355, 0.7412749002143753, 0.0], [1.6705208199770287, 0.7354323003671903, 0.0], [1.6797355568696926, 0.7496721175117714, 0.0], [1.683019300569794, 0.7609724234714288, 0.0], [1.7090462258836856, 0.7496531584942729, 0.0], [1.6944906787802672, 0.7782010795272385, 0.0], [1.711624681234545, 0.7809982771308454, 0.0], [1.7142579211901758, 0.8086691882387418, 0.0], [1.7228634259368494, 0.8101593856085277, 0.0], [1.7334585789396741, 0.8086955241692776, 0.0], [1.7410025396325173, 0.8116033830424801, 0.0], [1.7452314671428362, 0.8129210377982189, 0.0], [1.7469347934688024, 0.8178022260697748, 0.0], [1.755918076086527, 0.8156355148507894, 0.0], [1.7582726052148336, 0.8267441614782144, 0.0], [1.7491103050344743, 0.851037611052442, 0.0], [1.7553149419206242, 0.8567873880960192, 0.0], [1.7667317196908943, 0.8555987676174385, 0.0], [1.774732611099166, 0.8598049669095119, 0.0], [1.776267631679738, 0.8709283289849362, 0.0], [1.7800600817057197, 0.8758374917307621, 0.0], [1.7898327259319893, 0.8752002974507783, 0.0], [1.7897575604435256, 0.8897324997282164, 0.0], [1.8008762941667282, 0.8868888035754082, 0.0], [1.8079325001425606, 0.8893616075356084, 0.0], [1.8108544661048704, 0.8936504020728648, 0.0], [1.8158368023952518, 0.8947641593764403, 0.0], [1.8163429828180964, 0.9023434452515761, 0.0], [1.8202634682691152, 0.9078495160347503, 0.0], [1.8225636736064825, 0.9200538211729636, 0.0], [1.8251513891032323, 0.9240856534998092, 0.0], [1.8269049214608586, 0.9263534606693633, 0.0], [1.833044566353502, 0.9257545735683222, 0.0], [1.8442080193449002, 0.9196536960576853, 0.0], [1.847391617292301, 0.9254807229760792, 0.0], [1.8464728276693103, 0.9400256915124833, 0.0], [1.8497461168555782, 0.9384207740976076, 0.0], [1.8537241664146775, 0.9384317749451822, 0.0], [1.8577880153658342, 0.9387348364164739, 0.0], [1.8618077866613045, 0.9398691891840852, 0.0], [1.8649060356124199, 0.9413645416671066, 0.0], [1.8647698702297726, 0.9462217567880856, 0.0], [1.8659584675894285, 0.9572674986489446, 0.0], [1.869433491020179, 0.9574833420049182, 0.0], [1.8735121032695186, 0.960900127873565, 0.0], [1.8756793985507523, 0.9631531504122364, 0.0], [1.8798776816406677, 0.9618406362765257, 0.0], [1.8880416582910937, 0.9565464257155712, 0.0], [1.88811503337675, 0.9590419900971091, 0.0], [1.8955861790025796, 0.9542956738944888, 0.0], [1.8970024986011527, 0.9544290832884655, 0.0], [1.9000384023376053, 0.9563241867366621, 0.0], [1.9028274053020056, 0.9563019038645871, 0.0], [1.9026398765733097, 0.9584561740622056, 0.0], [1.900766349081817, 0.9672710498011007, 0.0], [1.9020623581119946, 0.9676048340751489, 0.0], [1.9007179776735061, 0.9738248816253843, 0.0], [1.9017270376716826, 0.9748739648287805, 0.0], [1.905894819802338, 0.9737148220400615, 0.0], [1.9102753570938118, 0.9739947817903997, 0.0], [1.914036208046829, 0.973343099563177, 0.0], [1.9178402556426495, 0.9725418328513166, 0.0], [1.9215529849746813, 0.9718386620736662, 0.0], [1.9240856386911733, 0.9727194899998588, 0.0], [1.9236807444190172, 0.9761289776846498, 0.0], [1.922586626629083, 0.9813642727076611, 0.0], [1.9236095600201228, 0.9892782075071911, 0.0], [1.9281222397549893, 0.9876528707129731, 0.0], [1.9305383166133618, 0.988298864928713, 0.0], [1.9331720220223036, 0.9854579835155388, 0.0], [1.9382250708482633, 0.9837299536657036, 0.0], [1.9413839932300894, 0.9843657275164241, 0.0], [1.9442335123585819, 0.9841511518138392, 0.0], [1.9440759842223057, 0.9849373919283081, 0.0], [1.9433994381725548, 0.9896622176518806, 0.0], [1.9449358175728557, 0.9902610918720847, 0.0], [1.9492281544521939, 0.987260105215994, 0.0], [1.9486644143951999, 0.9957898224563058, 0.0], [1.9529188874050067, 0.9935741893535376, 0.0], [1.9560439547651107, 0.9918530928100325, 0.0], [1.9558540069480903, 0.9954883527000227, 0.0], [1.9524063047586158, 1.007628707849404, 0.0], [1.951994088473128, 1.0104785856181042, 0.0]];"
      ],
      "text/plain": [
       "<IPython.core.display.Javascript object>"
      ]
     },
     "metadata": {},
     "output_type": "display_data"
    }
   ],
   "source": [
    "X_data = np.vstack([np.ones(N), x])\n",
    "y_data = y\n",
    "\n",
    "M = 10 # Number of indices to randomly select for each step\n",
    "\n",
    "def dNLL(beta, X, y):\n",
    "    return -X @ (y * logit(-beta.T @ X)) / M\n",
    "\n",
    "iterations = 100\n",
    "\n",
    "betas_sgd = np.zeros((iterations, 3))\n",
    "\n",
    "for i in range(1,iterations):\n",
    "    idxs = rd.choice(N, M, replace=False)\n",
    "    betas_sgd[i,:2] = betas_sgd[i-1,:2] - np.sqrt(M)*dNLL(betas_sgd[i-1,:2].T, X_data[:,idxs], y_data[idxs])/i\n",
    "\n",
    "jsglobal(SGD=betas_sgd)"
   ]
  },
  {
   "cell_type": "code",
   "execution_count": 7,
   "metadata": {},
   "outputs": [
    {
     "data": {
      "application/javascript": [
       "\n",
       "with_mathbox(element, function(mathbox) {\n",
       "    \n",
       "    var fcn = function(b0, b1) {\n",
       "        \n",
       "        var val = 0;\n",
       "        for (var i = 0; i<X.length; i++) {\n",
       "            val = val + Math.log(1 + Math.exp(-Y[i] * (b1 * X[i] + b0)));\n",
       "        } \n",
       "        \n",
       "        return val / X.length;\n",
       "    }\n",
       "    \n",
       "    var view = plotGraph(mathbox, fcn, 'b0', 'b1', 'l(b0,b1)', [[-3, 3], [-1, 3], [-3, 3]]);\n",
       "    \n",
       "    addPoint(view, [B[0], B[1], 0], 0x3090FF, '(2, 2)');\n",
       "    \n",
       "    addPoint(view, [B[0], B[1], fcn(B[0], B[1])], 0xFF9030, 'Objective at True Parameter');\n",
       "    \n",
       "    addSequence(view, SGD, 0xFF0000);\n",
       "     \n",
       "})"
      ],
      "text/plain": [
       "<IPython.core.display.Javascript object>"
      ]
     },
     "metadata": {},
     "output_type": "display_data"
    }
   ],
   "source": [
    "%%javascript\n",
    "\n",
    "with_mathbox(element, function(mathbox) {\n",
    "    \n",
    "    var fcn = function(b0, b1) {\n",
    "        \n",
    "        var val = 0;\n",
    "        for (var i = 0; i<X.length; i++) {\n",
    "            val = val + Math.log(1 + Math.exp(-Y[i] * (b1 * X[i] + b0)));\n",
    "        } \n",
    "        \n",
    "        return val / X.length;\n",
    "    }\n",
    "    \n",
    "    var view = plotGraph(mathbox, fcn, 'b0', 'b1', 'l(b0,b1)', [[-3, 3], [-1, 3], [-3, 3]]);\n",
    "    \n",
    "    addPoint(view, [B[0], B[1], 0], 0x3090FF, '(2, 2)');\n",
    "    \n",
    "    addPoint(view, [B[0], B[1], fcn(B[0], B[1])], 0xFF9030, 'Objective at True Parameter');\n",
    "    \n",
    "    addSequence(view, SGD, 0xFF0000);\n",
    "     \n",
    "})"
   ]
  },
  {
   "cell_type": "code",
   "execution_count": null,
   "metadata": {
    "collapsed": true
   },
   "outputs": [],
   "source": []
  }
 ],
 "metadata": {
  "anaconda-cloud": {},
  "kernelspec": {
   "display_name": "Python [default]",
   "language": "python",
   "name": "python3"
  },
  "language_info": {
   "codemirror_mode": {
    "name": "ipython",
    "version": 3
   },
   "file_extension": ".py",
   "mimetype": "text/x-python",
   "name": "python",
   "nbconvert_exporter": "python",
   "pygments_lexer": "ipython3",
   "version": "3.5.3"
  }
 },
 "nbformat": 4,
 "nbformat_minor": 1
}

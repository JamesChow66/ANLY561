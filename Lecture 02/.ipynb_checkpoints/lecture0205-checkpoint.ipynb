{
 "cells": [
  {
   "cell_type": "code",
   "execution_count": 2,
   "metadata": {
    "collapsed": true
   },
   "outputs": [],
   "source": [
    "'''\n",
    "This code imports numpy packages and allows us to pass data from python to global javascript\n",
    "objects. It was developed by znah@github\n",
    "'''\n",
    "\n",
    "import json\n",
    "import numpy as np\n",
    "import numpy.random as rd\n",
    "import matplotlib.pyplot as plt\n",
    "\n",
    "from ipywidgets import widgets\n",
    "from IPython.display import HTML, Javascript, display\n",
    "\n",
    "def json_numpy_serializer(o):\n",
    "    if isinstance(o, np.ndarray):\n",
    "        return o.tolist()\n",
    "    raise TypeError(\"{} of type {} is not JSON serializable\".format(repr(o), type(o)))\n",
    "\n",
    "def jsglobal(**params):\n",
    "    code = [];\n",
    "    for name, value in params.items():\n",
    "        jsdata = json.dumps(value, default=json_numpy_serializer)\n",
    "        code.append(\"window.{}={};\".format(name, jsdata))\n",
    "    display(Javascript(\"\\n\".join(code)))"
   ]
  },
  {
   "cell_type": "code",
   "execution_count": 3,
   "metadata": {},
   "outputs": [
    {
     "data": {
      "application/javascript": [
       "\n",
       "// Loading the compiled MathBox bundle.\n",
       "require.config({\n",
       "    baseUrl:'', paths: { mathBox: '../../tree/static/mathbox/build/mathbox-bundle',\n",
       "                           graphing: '../../tree/static/graphing/graphing'}\n",
       "    // online compilation\n",
       "    //baseUrl: '', paths: {mathBox: '../static/mathbox/build/mathbox-bundle', graphing: '../../static/graphing/graphing'}\n",
       "    // online compilation without local library-- remove baseUrl\n",
       "    //paths: {mathBox: '//cdn.rawgit.com/unconed/mathbox/eaeb8e15/build/mathbox-bundle'}\n",
       "});\n",
       "\n",
       "// Require commands for 3d plotting\n",
       "require(['graphing'])"
      ],
      "text/plain": [
       "<IPython.core.display.Javascript object>"
      ]
     },
     "metadata": {},
     "output_type": "display_data"
    }
   ],
   "source": [
    "%%javascript\n",
    "\n",
    "// Loading the compiled MathBox bundle.\n",
    "require.config({\n",
    "    //baseUrl:'', paths: { mathBox: '../../tree/static/mathbox/build/mathbox-bundle', graphing: '../../tree/static/graphing/graphing'}\n",
    "    // online compilation\n",
    "    baseUrl: '', paths: {mathBox: '../static/mathbox/build/mathbox-bundle', graphing: '../../static/graphing/graphing'}\n",
    "    // online compilation without local library-- remove baseUrl\n",
    "    //paths: {mathBox: '//cdn.rawgit.com/unconed/mathbox/eaeb8e15/build/mathbox-bundle'}\n",
    "});\n",
    "\n",
    "// Require commands for 3d plotting\n",
    "require(['graphing'])"
   ]
  },
  {
   "cell_type": "markdown",
   "metadata": {
    "collapsed": true
   },
   "source": [
    "# Part IX: Stochastic Gradient Descent\n",
    "\n",
    "We now return to the example of logistic regression, but where we now use two parameters in our model. In particular, we will set\n",
    "\n",
    "$$\n",
    "\\text{prob}(y=1\\vert x;\\beta_0, \\beta_1) = \\text{logit}(\\beta_1 x +\\beta_0)\n",
    "$$\n",
    "and\n",
    "$$\n",
    "\\text{prob}(y=-1\\vert x;\\beta_0, \\beta_1) = \\text{logit}(-\\beta_1 x - \\beta_0)\n",
    "$$\n"
   ]
  },
  {
   "cell_type": "code",
   "execution_count": 6,
   "metadata": {},
   "outputs": [
    {
     "data": {
      "image/png": "[encoded data removed]",
      "text/plain": [
       "<matplotlib.figure.Figure at 0x116b58c88>"
      ]
     },
     "metadata": {},
     "output_type": "display_data"
    }
   ],
   "source": [
    "def logit(x):\n",
    "    return 1/(1+np.exp(-x))\n",
    "\n",
    "b0 = 1\n",
    "b1 = 1\n",
    "\n",
    "t = np.linspace(-10, 10)\n",
    "s = b1 * t + b0\n",
    "plt.plot(s, logit(s))\n",
    "plt.title('Logisitic composed with affine')\n",
    "plt.xlabel('x')\n",
    "plt.ylabel('prob(y=1|x;b0=' + str(b0) + ', b1=' + str(b1) + ')')\n",
    "plt.show()"
   ]
  },
  {
   "cell_type": "markdown",
   "metadata": {},
   "source": [
    "Now suppose we are supplied with data $\\{(x^{(i)}, y^{(i)})\\}_{i=1}^N\\subset\\mathbb{R}\\times\\{-1, 1\\}$, where we assume that $x^{(i)}$ are chosen by some arbitrary process and $y^{(i)}$ is drawn from a Bernoulli trial with the above probability of $y^{(i)}=1, -1$. Our goal is to use this data to infer the true values of $\\beta_0$ and $\\beta_1$. Setting\n",
    "\n",
    "$$\n",
    "{\\bf \\beta} = \\begin{pmatrix}\n",
    "\\beta_0\\\\\n",
    "\\beta_1\n",
    "\\end{pmatrix}\\text{ and } {\\bf x} = \\begin{pmatrix}\n",
    "1\\\\\n",
    "x\n",
    "\\end{pmatrix},\n",
    "$$\n",
    "\n",
    "$\\text{logit}(\\beta_1 x + \\beta_0)=\\text{logit}({\\bf \\beta}^T{\\bf x})$. The maximum likelihood principle leads us to consider the maximization of the likelihood\n",
    "\n",
    "$$\n",
    "\\mathcal{L}({\\bf \\beta}) = \\prod_{i=1}^N \\text{logit}(y^{(i)}{\\bf \\beta}^T {\\bf x}^{(i)})\n",
    "$$\n",
    "\n",
    "and we therefore seek the minimize the negative log-likelihood\n",
    "\n",
    "$$\n",
    "\\ell({\\bf \\beta}) = \\frac{1}{N} \\sum_{i=1}^N \\log\\left(1 + e^{-y^{(i)}{\\bf \\beta}^T {\\bf x}^{(i)}}\\right)\n",
    "$$\n",
    "\n",
    "Let's create some data to display this function\n"
   ]
  },
  {
   "cell_type": "code",
   "execution_count": 45,
   "metadata": {},
   "outputs": [
    {
     "data": {
      "image/png": "[encoded data removed]",
      "text/plain": [
       "<matplotlib.figure.Figure at 0x116b691d0>"
      ]
     },
     "metadata": {},
     "output_type": "display_data"
    },
    {
     "data": {
      "application/javascript": [
       "window.X=[-0.03821608477149499, -1.749386228479687, -0.8403724046863393, -0.24728563120556055, 0.809259015721188, 1.231578346328313, 0.6621984371570762, 0.17174630089148052, 0.74505836440135, 0.5187972122877392, -0.32248390827108, 0.1476596859495059, 1.3279720226334297, -0.21021301711973225, -0.7986763048403729, 0.6169369817350593, 0.41667379483030376, 1.2093338774255118, -0.8342813215525192, 1.9774773693378869, 0.28327997372961733, 1.3029841005673162, 0.8589307562169807, 0.039831512007899667, 0.9822239220840123, 0.40666812241722544, -1.5428180925495747, 0.12060784943412396, 0.09050929236134969, -1.1841650371466708, 0.7769171501703387, -1.464868938355782, -0.32120847304811767, 1.5397205093437052, 1.3025356315409518, -2.2153153279608486, 0.20434875001663227, -0.6865449278478071, -0.3852338011521675, 0.7643663188053971, 0.6966696708295861, -1.5065081052356841, -0.8497786919986388, -1.016414658257256, -0.946758364211955, 1.137578362885678, -0.7710950130910907, -0.6004991301091198, 1.0041877934289793, 0.7588801810608091, -0.8302919487289729, 0.1394858335582354, 0.7587609281437656, -0.958496564924298, -0.4200635194773515, -0.2833009524042839, 0.019779272488126966, 0.5090505703890179, -0.8504127501591384, 0.5498996144542945, 0.46566627481906553, -0.16451018752469435, -1.316639839142714, 1.0012163497243656, -0.3923106201796996, 0.9287281942084185, 0.5368197222858717, 0.01122902161134167, -1.3160158054476132, 0.07382924280469436, 0.6351315222704221, -0.6743277982115005, 1.230519169134176, 0.9788485648716709, -1.7054783816939048, 0.8118856081018927, -0.621576627455009, -2.0783591335545406, -1.310357435212561, -0.4899538335468138, 0.33737131423828687, 0.7175467192287597, 1.5332844067024212, -0.6090090429034988, 0.20408520994021281, -1.0915853715916488, -1.5033574930637403, -1.3760578384913855, -0.8890579439223921, 1.4764263109264337, -1.687287007956604, 1.5338443561636137, 2.512916284928032, -1.031419904291752, -0.6026040764614267, -0.4416952868307127, 0.0754933645810437, 1.687306708052287, -1.8150469819241095, 0.4686506312532047];"
      ],
      "text/plain": [
       "<IPython.core.display.Javascript object>"
      ]
     },
     "metadata": {},
     "output_type": "display_data"
    },
    {
     "data": {
      "application/javascript": [
       "window.Y=[1.0, 1.0, -1.0, 1.0, 1.0, 1.0, 1.0, 1.0, 1.0, 1.0, 1.0, 1.0, 1.0, 1.0, 1.0, 1.0, 1.0, 1.0, 1.0, 1.0, 1.0, 1.0, 1.0, 1.0, 1.0, 1.0, -1.0, 1.0, 1.0, 1.0, 1.0, -1.0, 1.0, 1.0, 1.0, -1.0, 1.0, 1.0, 1.0, 1.0, 1.0, 1.0, -1.0, 1.0, -1.0, 1.0, -1.0, 1.0, 1.0, 1.0, 1.0, -1.0, 1.0, 1.0, 1.0, 1.0, 1.0, 1.0, 1.0, 1.0, 1.0, 1.0, 1.0, 1.0, 1.0, 1.0, 1.0, 1.0, 1.0, 1.0, 1.0, -1.0, 1.0, 1.0, -1.0, 1.0, -1.0, -1.0, 1.0, -1.0, 1.0, 1.0, -1.0, -1.0, 1.0, 1.0, -1.0, -1.0, -1.0, 1.0, -1.0, 1.0, 1.0, -1.0, 1.0, 1.0, 1.0, 1.0, -1.0, 1.0];"
      ],
      "text/plain": [
       "<IPython.core.display.Javascript object>"
      ]
     },
     "metadata": {},
     "output_type": "display_data"
    },
    {
     "data": {
      "application/javascript": [
       "window.B=[2, 2];"
      ],
      "text/plain": [
       "<IPython.core.display.Javascript object>"
      ]
     },
     "metadata": {},
     "output_type": "display_data"
    }
   ],
   "source": [
    "N = 100\n",
    "beta = np.array([2, 2]) # The true parameters in the model\n",
    "x = rd.randn(N) # Arbitrary x values\n",
    "\n",
    "# y's drawn randomly\n",
    "y = np.zeros(N)\n",
    "for i in range(N):\n",
    "    if rd.binomial(1,logit(beta.T @ [1, x[i]])) == 1:\n",
    "        y[i] = 1\n",
    "    else:\n",
    "        y[i] = -1\n",
    "        \n",
    "plt.scatter(x, y)\n",
    "plt.show()\n",
    "        \n",
    "jsglobal(X=x)\n",
    "jsglobal(Y=y)\n",
    "jsglobal(B=beta)"
   ]
  },
  {
   "cell_type": "code",
   "execution_count": 47,
   "metadata": {},
   "outputs": [
    {
     "data": {
      "application/javascript": [
       "\n",
       "with_mathbox(element, function(mathbox) {\n",
       "    \n",
       "    var fcn = function(b0, b1) {\n",
       "        \n",
       "        var val = 0;\n",
       "        for (var i = 0; i<X.length; i++) {\n",
       "            val = val + Math.log(1 + Math.exp(-Y[i] * (b1 * X[i] + b0)));\n",
       "        } \n",
       "        \n",
       "        return val / X.length;\n",
       "    }\n",
       "    \n",
       "    var view = plotGraph(mathbox, fcn, 'b0', 'b1', 'l(b0,b1)', [[-3, 3], [-1, 3], [-3, 3]]);\n",
       "    \n",
       "    addPoint(view, [B[0], B[1], 0], 0x3090FF, '(2, 2)');\n",
       "    \n",
       "    addPoint(view, [B[0], B[1], fcn(B[0], B[1])], 0xFF9030, 'Objective at True Parameter')\n",
       "     \n",
       "})"
      ],
      "text/plain": [
       "<IPython.core.display.Javascript object>"
      ]
     },
     "metadata": {},
     "output_type": "display_data"
    }
   ],
   "source": [
    "%%javascript\n",
    "\n",
    "with_mathbox(element, function(mathbox) {\n",
    "    \n",
    "    var fcn = function(b0, b1) {\n",
    "        \n",
    "        var val = 0;\n",
    "        for (var i = 0; i<X.length; i++) {\n",
    "            val = val + Math.log(1 + Math.exp(-Y[i] * (b1 * X[i] + b0)));\n",
    "        } \n",
    "        \n",
    "        return val / X.length;\n",
    "    }\n",
    "    \n",
    "    var view = plotGraph(mathbox, fcn, 'b0', 'b1', 'l(b0,b1)', [[-3, 3], [-1, 3], [-3, 3]]);\n",
    "    \n",
    "    addPoint(view, [B[0], B[1], 0], 0x3090FF, '(2, 2)');\n",
    "    \n",
    "    addPoint(view, [B[0], B[1], fcn(B[0], B[1])], 0xFF9030, 'Objective at True Parameter')\n",
    "     \n",
    "})"
   ]
  },
  {
   "cell_type": "markdown",
   "metadata": {},
   "source": [
    "We can generate data and view the objective function determined by that data. We can also illustrate the convergence of stochastic gradient descent."
   ]
  },
  {
   "cell_type": "code",
   "execution_count": 59,
   "metadata": {},
   "outputs": [
    {
     "data": {
      "application/javascript": [
       "window.SGD=[[0.0, 0.0, 0.0], [0.9486832980505138, 0.5134033908473117, 0.0], [1.1416987539289412, 0.6431486599592032, 0.0], [1.1681072682073907, 0.6781107009145454, 0.0], [1.2043315192652992, 0.7817860045079549, 0.0], [1.2367354384628415, 0.8857824861599123, 0.0], [1.2869302506923068, 0.9244790726132615, 0.0], [1.3359581521803228, 0.9588553561144451, 0.0], [1.3937833342093715, 0.9228117056659014, 0.0], [1.4529974317711045, 0.9234575288124904, 0.0], [1.474262378564745, 0.938153059481283, 0.0], [1.5102087339915111, 0.9371779168193178, 0.0], [1.5376652284168981, 0.938586546041626, 0.0], [1.5446410480813308, 0.9621477959814917, 0.0], [1.5399844527879598, 0.9840323107298575, 0.0], [1.5450477557087374, 1.0113392891173223, 0.0], [1.5874692913085349, 0.9823381007559276, 0.0], [1.5973208997547923, 0.9863722973368214, 0.0], [1.6196837357995824, 0.9897200319038436, 0.0], [1.6316781010360333, 0.9991840555857596, 0.0], [1.645925189190573, 1.003957015653573, 0.0], [1.6616043159323193, 1.004862628821735, 0.0], [1.669298592292069, 1.008215393060492, 0.0], [1.6872736376916073, 1.0101848861010057, 0.0], [1.6964485546057124, 1.0188773168689031, 0.0], [1.7060213820150016, 1.0205918606495035, 0.0], [1.7306191710329961, 1.0039184765920695, 0.0], [1.7321241373096492, 1.0181002958469343, 0.0], [1.748060628543603, 1.0107109685066493, 0.0], [1.7699682411305817, 0.9975433737204983, 0.0], [1.7694319268952903, 1.0146753659926877, 0.0], [1.777159162256133, 1.0144633295977756, 0.0], [1.7743070423909235, 1.0263849129145695, 0.0], [1.7827921545284313, 1.02831471740149, 0.0], [1.7811767283494224, 1.0403997961110378, 0.0], [1.7758841608029372, 1.0597930215964364, 0.0], [1.7854840142930477, 1.0562826095768478, 0.0], [1.7823670252368324, 1.0734043704637317, 0.0], [1.792738139835025, 1.069773829598947, 0.0], [1.8056027996675232, 1.0633473607874475, 0.0], [1.7988173580912814, 1.0844900644252933, 0.0], [1.7928009383743688, 1.0999103987620231, 0.0], [1.7989228775651922, 1.1005351189136066, 0.0], [1.798711484582772, 1.1070272277643913, 0.0], [1.798708280668381, 1.1164831757317544, 0.0], [1.7948958574700604, 1.1232948741769886, 0.0], [1.8003185874761372, 1.121666419141264, 0.0], [1.8029238848692253, 1.1209201087009988, 0.0], [1.8106987845517992, 1.1209876036614788, 0.0], [1.8136237676185756, 1.1241867633347526, 0.0], [1.8134809747520744, 1.1310069021596325, 0.0], [1.8141018291185789, 1.131870881300696, 0.0], [1.810392149850228, 1.1397642033828936, 0.0], [1.81174121502013, 1.1434643802879216, 0.0], [1.8109688362336416, 1.1534163893251015, 0.0], [1.810304285453061, 1.1647246361773436, 0.0], [1.8115941380256493, 1.1701297370446562, 0.0], [1.8110709578749955, 1.1804414469556952, 0.0], [1.8119040271076885, 1.1842043150335335, 0.0], [1.8099863178167674, 1.1970129125621594, 0.0], [1.8091693854801867, 1.2060221005130953, 0.0], [1.8057619208857179, 1.213130977053835, 0.0], [1.8100916697449632, 1.2121875160789213, 0.0], [1.8182495852391254, 1.203933750764407, 0.0], [1.8086946890208129, 1.2254990547586222, 0.0], [1.8094601580008784, 1.2285226203609871, 0.0], [1.8123269815424536, 1.2300287990411642, 0.0], [1.8121006437799922, 1.2354547794987893, 0.0], [1.8194487581500205, 1.2305049089030793, 0.0], [1.8180776120607902, 1.2362227666497054, 0.0], [1.8203156329596315, 1.238750494369774, 0.0], [1.8229425173630796, 1.2377178878822845, 0.0], [1.8284860066803057, 1.2363859986907715, 0.0], [1.8338686382220868, 1.234032186754959, 0.0], [1.8292219686396827, 1.242018616121172, 0.0], [1.8293937464557577, 1.2464690518054393, 0.0], [1.8325906101839395, 1.2468734049500978, 0.0], [1.8327556966759038, 1.2510719072642966, 0.0], [1.8358987489328382, 1.2514026839355095, 0.0], [1.8396424446507407, 1.249975426726057, 0.0], [1.8397598022251314, 1.2556097103301507, 0.0], [1.8432841490974772, 1.2566151885800088, 0.0], [1.8442287022067365, 1.2584605648842904, 0.0], [1.8466492631959261, 1.2592674780564823, 0.0], [1.852635395227345, 1.2563516234197398, 0.0], [1.852750336164514, 1.2600630433393083, 0.0], [1.8553657832483994, 1.26229789913588, 0.0], [1.8565912364626214, 1.26613013077859, 0.0], [1.8586161190728705, 1.2670973145862499, 0.0], [1.8627054024218326, 1.2650063434476437, 0.0], [1.8587608805987557, 1.2740583856726606, 0.0], [1.8519667850703738, 1.2870256252224634, 0.0], [1.8445651614896068, 1.3034626638628466, 0.0], [1.8450065238328475, 1.306656196285914, 0.0], [1.8438101399926525, 1.3087034468508643, 0.0], [1.8443899756247768, 1.3135083949730106, 0.0], [1.8459445470693077, 1.3161707854570441, 0.0], [1.848227508747592, 1.3181962079119787, 0.0], [1.8510855898714942, 1.3182279193591373, 0.0], [1.853001676774104, 1.3190645146376567, 0.0]];"
      ],
      "text/plain": [
       "<IPython.core.display.Javascript object>"
      ]
     },
     "metadata": {},
     "output_type": "display_data"
    }
   ],
   "source": [
    "X_data = np.vstack([np.ones(N), x])\n",
    "y_data = y\n",
    "\n",
    "M = 10 # Number of indices to randomly select for each step\n",
    "\n",
    "def dNLL(beta, X, y):\n",
    "    return -X @ (y * logit(-beta.T @ X)) / M\n",
    "\n",
    "iterations = 100\n",
    "\n",
    "betas_sgd = np.zeros((iterations, 3))\n",
    "\n",
    "for i in range(1,iterations):\n",
    "    idxs = rd.choice(N, M, replace=False)\n",
    "    betas_sgd[i,:2] = betas_sgd[i-1,:2] - np.sqrt(M)*dNLL(betas_sgd[i-1,:2].T, X_data[:,idxs], y_data[idxs])/i\n",
    "\n",
    "jsglobal(SGD=betas_sgd)"
   ]
  },
  {
   "cell_type": "code",
   "execution_count": 60,
   "metadata": {},
   "outputs": [
    {
     "data": {
      "application/javascript": [
       "\n",
       "with_mathbox(element, function(mathbox) {\n",
       "    \n",
       "    var fcn = function(b0, b1) {\n",
       "        \n",
       "        var val = 0;\n",
       "        for (var i = 0; i<X.length; i++) {\n",
       "            val = val + Math.log(1 + Math.exp(-Y[i] * (b1 * X[i] + b0)));\n",
       "        } \n",
       "        \n",
       "        return val / X.length;\n",
       "    }\n",
       "    \n",
       "    var view = plotGraph(mathbox, fcn, 'b0', 'b1', 'l(b0,b1)', [[-3, 3], [-1, 3], [-3, 3]]);\n",
       "    \n",
       "    addPoint(view, [B[0], B[1], 0], 0x3090FF, '(2, 2)');\n",
       "    \n",
       "    addPoint(view, [B[0], B[1], fcn(B[0], B[1])], 0xFF9030, 'Objective at True Parameter');\n",
       "    \n",
       "    addSequence(view, SGD, 0xFF0000);\n",
       "     \n",
       "})"
      ],
      "text/plain": [
       "<IPython.core.display.Javascript object>"
      ]
     },
     "metadata": {},
     "output_type": "display_data"
    }
   ],
   "source": [
    "%%javascript\n",
    "\n",
    "with_mathbox(element, function(mathbox) {\n",
    "    \n",
    "    var fcn = function(b0, b1) {\n",
    "        \n",
    "        var val = 0;\n",
    "        for (var i = 0; i<X.length; i++) {\n",
    "            val = val + Math.log(1 + Math.exp(-Y[i] * (b1 * X[i] + b0)));\n",
    "        } \n",
    "        \n",
    "        return val / X.length;\n",
    "    }\n",
    "    \n",
    "    var view = plotGraph(mathbox, fcn, 'b0', 'b1', 'l(b0,b1)', [[-3, 3], [-1, 3], [-3, 3]]);\n",
    "    \n",
    "    addPoint(view, [B[0], B[1], 0], 0x3090FF, '(2, 2)');\n",
    "    \n",
    "    addPoint(view, [B[0], B[1], fcn(B[0], B[1])], 0xFF9030, 'Objective at True Parameter');\n",
    "    \n",
    "    addSequence(view, SGD, 0xFF0000);\n",
    "     \n",
    "})"
   ]
  },
  {
   "cell_type": "markdown",
   "metadata": {},
   "source": []
  }
 ],
 "metadata": {
  "anaconda-cloud": {},
  "kernelspec": {
   "display_name": "Python [default]",
   "language": "python",
   "name": "python3"
  },
  "language_info": {
   "codemirror_mode": {
    "name": "ipython",
    "version": 3
   },
   "file_extension": ".py",
   "mimetype": "text/x-python",
   "name": "python",
   "nbconvert_exporter": "python",
   "pygments_lexer": "ipython3",
   "version": "3.5.3"
  }
 },
 "nbformat": 4,
 "nbformat_minor": 1
}

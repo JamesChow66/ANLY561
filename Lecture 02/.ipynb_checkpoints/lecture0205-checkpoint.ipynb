{
 "cells": [
  {
   "cell_type": "code",
   "execution_count": 1,
   "metadata": {
    "collapsed": true
   },
   "outputs": [],
   "source": [
    "'''\n",
    "This code imports numpy packages and allows us to pass data from python to global javascript\n",
    "objects. It was developed by znah@github\n",
    "'''\n",
    "\n",
    "import json\n",
    "import numpy as np\n",
    "import numpy.random as rd\n",
    "import matplotlib.pyplot as plt\n",
    "\n",
    "from ipywidgets import widgets\n",
    "from IPython.display import HTML, Javascript, display\n",
    "\n",
    "def json_numpy_serializer(o):\n",
    "    if isinstance(o, np.ndarray):\n",
    "        return o.tolist()\n",
    "    raise TypeError(\"{} of type {} is not JSON serializable\".format(repr(o), type(o)))\n",
    "\n",
    "def jsglobal(**params):\n",
    "    code = [];\n",
    "    for name, value in params.items():\n",
    "        jsdata = json.dumps(value, default=json_numpy_serializer)\n",
    "        code.append(\"window.{}={};\".format(name, jsdata))\n",
    "    display(Javascript(\"\\n\".join(code)))"
   ]
  },
  {
   "cell_type": "code",
   "execution_count": 2,
   "metadata": {},
   "outputs": [
    {
     "data": {
      "application/javascript": [
       "\n",
       "// Loading the compiled MathBox bundle.\n",
       "require.config({\n",
       "    //baseUrl:'', paths: {mathBox: '../../tree/static/mathbox/build/mathbox-bundle'}\n",
       "    // online compilation\n",
       "    baseUrl: '', paths: {mathBox: '../static/mathbox/build/mathbox-bundle'}\n",
       "    // online compilation without local library-- remove baseUrl\n",
       "    //paths: {mathBox: '//cdn.rawgit.com/unconed/mathbox/eaeb8e15/build/mathbox-bundle'}\n",
       "});\n",
       "\n",
       "// Minified graphing functions\n",
       "\n",
       "window.with_mathbox=function(element,func){require(['mathBox'],function(){var mathbox=mathBox({plugins:['core','controls','cursor','mathbox'],controls:{klass:THREE.OrbitControls},mathbox:{inspect:!1},element:element[0],loop:{start:!1},});var three=mathbox.three;three.renderer.setClearColor(new THREE.Color(0xFFFFFF),1.0);three.camera.position.set(-1,1,2);three.controls.noKeys=!0;three.element.style.height=\"400px\";three.element.style.width=\"100%\";function isInViewport(element){var rect=element.getBoundingClientRect();var html=document.documentElement;var w=window.innerWidth||html.clientWidth;var h=window.innerHeight||html.clientHeight;return rect.top<h&&rect.left<w&&rect.bottom>0&&rect.right>0}\n",
       "var intervalId=setInterval(function(){if(three.element.offsetParent===null){clearInterval(intervalId);three.destroy();return}\n",
       "var visible=isInViewport(three.canvas);if(three.Loop.running!=visible){visible?three.Loop.start():three.Loop.stop()}},100);func(mathbox);window.dispatchEvent(new Event('resize'))})};window.plotGraph=function(mathbox,f,xlabel='x',ylabel='y',zlabel='f(x,y)',rng=[[-3,3],[-5,5],[-3,3]]){var view=mathbox.cartesian({range:rng,scale:[1,1,1]},{rotation:(t)=>[0,t*0.02,0]}).grid({axes:[1,3]})\n",
       "view.area({id:'yaxis',width:1,height:1,axes:[1,3],expr:function(emit,x,y,i,j){emit(4,0,0);emit(0,0,0)},items:2,channels:3,}).text({font:'Helvetica',style:'bold',width:16,height:5,depth:2,expr:function(emit,i,j,k,time){emit(ylabel)},}).label({color:'#000000',snap:!1,outline:2,size:24,offset:[0,-32],depth:.5,zIndex:1});view.vector({points:'#yaxis',color:0x000000,width:9,start:!0});view.area({id:'xaxis',width:1,height:1,axes:[1,3],expr:function(emit,x,y,i,j){emit(0,0,4);emit(0,0,0)},items:2,channels:3,}).text({font:'Helvetica',style:'bold',width:16,height:5,depth:2,expr:function(emit,i,j,k,time){emit(xlabel)},}).label({color:'#000000',snap:!1,outline:2,size:24,offset:[0,-32],depth:.5,zIndex:1,});view.vector({points:'#xaxis',color:0x000000,width:9,start:!0,});view.area({id:'zaxis',width:1,height:1,axes:[1,3],expr:function(emit,x,y,i,j){emit(0,4,0);emit(0,0,0)},items:2,channels:3,}).text({font:'Helvetica',style:'bold',width:16,height:5,depth:2,expr:function(emit,i,j,k,time){emit(zlabel)},}).label({color:'#000000',snap:!1,outline:2,size:24,offset:[0,-32],depth:.5,zIndex:1,});view.vector({points:'#zaxis',color:0x000000,width:9,start:!0,});var graph=view.area({id:'graph',width:64,height:64,axes:[1,3],expr:function(emit,y,x,i,j){emit(y,f(x,y),x)},items:1,channels:3,});view.surface({shaded:!0,lineX:!0,lineY:!0,points:graph,color:0x0000FF,width:1,});return view};window.addSegment=function(view,p0,p1,col){view.array({width:128,expr:function(emit,i,time){var b=i/128;var a=1-b;emit(a*p0[1]+b*p1[1],a*p0[2]+b*p1[2],a*p0[0]+b*p1[0])},channels:3,});view.line({color:col,width:10,size:2.5,stroke:'dotted',start:!1,end:!1,})};window.addPoint=function(view,p,col,label){view.array({width:4,items:2,channels:3,expr:function(emit,i,t){emit(p[1],p[2],p[0])},}).point({color:col,points:'<',size:15,depth:.5,zBias:50,}).text({font:'Helvetica',style:'bold',width:16,height:5,depth:2,expr:function(emit,i,j,k,time){emit(label)},}).label({color:col,snap:!1,outline:2,size:24,offset:[0,-32],depth:.5,zIndex:1,})};window.addCurve=function(view,ab,x,y,z,col){view.array({width:128,expr:function(emit,i,time){var t=(ab[1]-ab[0])*(i/128)+ab[0];emit(y(t),z(t),x(t))},channels:3,});view.line({color:col,width:20,size:2.5,start:!0,end:!0,})};window.addClosedCurve=function(view,ab,x,y,z,col){view.array({width:128,expr:function(emit,i,time){var t=(ab[1]-ab[0])*(i/128)+ab[0];emit(y(t),z(t),x(t))},channels:3,});view.line({color:col,width:20,size:2.5,start:!1,end:!1,})};window.addSurface=function(view,ab,cd,x,y,z,col,opa){view.matrix({width:64,height:64,expr:function(emit,i,j,time){var p=(ab[1]-ab[0])*(i/64)+ab[0];var q=(cd[1]-cd[0])*(j/64)+cd[0];emit(y(p,q),z(p,q),x(p,q))},items:1,channels:3}).surface({shaded:!0,lineX:!1,lineY:!1,color:col,width:1,opacity:opa})}\n",
       "window.addSequence=function(view,seq,col){var idx=0;var d=new Date();var start=d.getTime();view.array({width:1,expr:function(emit,i,time){var nd=new Date();var now=nd.getTime();if(1000<now-start){idx=idx+1;if(seq.length<=idx){idx=0}\n",
       "start=now}\n",
       "emit(seq[idx][1],seq[idx][2],seq[idx][0])},items:1,channels:3}).point({color:col,points:'<',size:15,depth:.5,zBias:50,})}"
      ],
      "text/plain": [
       "<IPython.core.display.Javascript object>"
      ]
     },
     "metadata": {},
     "output_type": "display_data"
    }
   ],
   "source": [
    "%%javascript\n",
    "\n",
    "// Loading the compiled MathBox bundle.\n",
    "require.config({\n",
    "    //baseUrl:'', paths: {mathBox: '../../tree/static/mathbox/build/mathbox-bundle'}\n",
    "    // online compilation\n",
    "    baseUrl: '', paths: {mathBox: '../static/mathbox/build/mathbox-bundle'}\n",
    "    // online compilation without local library-- remove baseUrl\n",
    "    //paths: {mathBox: '//cdn.rawgit.com/unconed/mathbox/eaeb8e15/build/mathbox-bundle'}\n",
    "});\n",
    "\n",
    "// Minified graphing functions\n",
    "\n",
    "window.with_mathbox=function(element,func){require(['mathBox'],function(){var mathbox=mathBox({plugins:['core','controls','cursor','mathbox'],controls:{klass:THREE.OrbitControls},mathbox:{inspect:!1},element:element[0],loop:{start:!1},});var three=mathbox.three;three.renderer.setClearColor(new THREE.Color(0xFFFFFF),1.0);three.camera.position.set(-1,1,2);three.controls.noKeys=!0;three.element.style.height=\"400px\";three.element.style.width=\"100%\";function isInViewport(element){var rect=element.getBoundingClientRect();var html=document.documentElement;var w=window.innerWidth||html.clientWidth;var h=window.innerHeight||html.clientHeight;return rect.top<h&&rect.left<w&&rect.bottom>0&&rect.right>0}\n",
    "var intervalId=setInterval(function(){if(three.element.offsetParent===null){clearInterval(intervalId);three.destroy();return}\n",
    "var visible=isInViewport(three.canvas);if(three.Loop.running!=visible){visible?three.Loop.start():three.Loop.stop()}},100);func(mathbox);window.dispatchEvent(new Event('resize'))})};window.plotGraph=function(mathbox,f,xlabel='x',ylabel='y',zlabel='f(x,y)',rng=[[-3,3],[-5,5],[-3,3]]){var view=mathbox.cartesian({range:rng,scale:[1,1,1]},{rotation:(t)=>[0,t*0.02,0]}).grid({axes:[1,3]})\n",
    "view.area({id:'yaxis',width:1,height:1,axes:[1,3],expr:function(emit,x,y,i,j){emit(4,0,0);emit(0,0,0)},items:2,channels:3,}).text({font:'Helvetica',style:'bold',width:16,height:5,depth:2,expr:function(emit,i,j,k,time){emit(ylabel)},}).label({color:'#000000',snap:!1,outline:2,size:24,offset:[0,-32],depth:.5,zIndex:1});view.vector({points:'#yaxis',color:0x000000,width:9,start:!0});view.area({id:'xaxis',width:1,height:1,axes:[1,3],expr:function(emit,x,y,i,j){emit(0,0,4);emit(0,0,0)},items:2,channels:3,}).text({font:'Helvetica',style:'bold',width:16,height:5,depth:2,expr:function(emit,i,j,k,time){emit(xlabel)},}).label({color:'#000000',snap:!1,outline:2,size:24,offset:[0,-32],depth:.5,zIndex:1,});view.vector({points:'#xaxis',color:0x000000,width:9,start:!0,});view.area({id:'zaxis',width:1,height:1,axes:[1,3],expr:function(emit,x,y,i,j){emit(0,4,0);emit(0,0,0)},items:2,channels:3,}).text({font:'Helvetica',style:'bold',width:16,height:5,depth:2,expr:function(emit,i,j,k,time){emit(zlabel)},}).label({color:'#000000',snap:!1,outline:2,size:24,offset:[0,-32],depth:.5,zIndex:1,});view.vector({points:'#zaxis',color:0x000000,width:9,start:!0,});var graph=view.area({id:'graph',width:64,height:64,axes:[1,3],expr:function(emit,y,x,i,j){emit(y,f(x,y),x)},items:1,channels:3,});view.surface({shaded:!0,lineX:!0,lineY:!0,points:graph,color:0x0000FF,width:1,});return view};window.addSegment=function(view,p0,p1,col){view.array({width:128,expr:function(emit,i,time){var b=i/128;var a=1-b;emit(a*p0[1]+b*p1[1],a*p0[2]+b*p1[2],a*p0[0]+b*p1[0])},channels:3,});view.line({color:col,width:10,size:2.5,stroke:'dotted',start:!1,end:!1,})};window.addPoint=function(view,p,col,label){view.array({width:4,items:2,channels:3,expr:function(emit,i,t){emit(p[1],p[2],p[0])},}).point({color:col,points:'<',size:15,depth:.5,zBias:50,}).text({font:'Helvetica',style:'bold',width:16,height:5,depth:2,expr:function(emit,i,j,k,time){emit(label)},}).label({color:col,snap:!1,outline:2,size:24,offset:[0,-32],depth:.5,zIndex:1,})};window.addCurve=function(view,ab,x,y,z,col){view.array({width:128,expr:function(emit,i,time){var t=(ab[1]-ab[0])*(i/128)+ab[0];emit(y(t),z(t),x(t))},channels:3,});view.line({color:col,width:20,size:2.5,start:!0,end:!0,})};window.addClosedCurve=function(view,ab,x,y,z,col){view.array({width:128,expr:function(emit,i,time){var t=(ab[1]-ab[0])*(i/128)+ab[0];emit(y(t),z(t),x(t))},channels:3,});view.line({color:col,width:20,size:2.5,start:!1,end:!1,})};window.addSurface=function(view,ab,cd,x,y,z,col,opa){view.matrix({width:64,height:64,expr:function(emit,i,j,time){var p=(ab[1]-ab[0])*(i/64)+ab[0];var q=(cd[1]-cd[0])*(j/64)+cd[0];emit(y(p,q),z(p,q),x(p,q))},items:1,channels:3}).surface({shaded:!0,lineX:!1,lineY:!1,color:col,width:1,opacity:opa})}\n",
    "window.addSequence=function(view,seq,col){var idx=0;var d=new Date();var start=d.getTime();view.array({width:1,expr:function(emit,i,time){var nd=new Date();var now=nd.getTime();if(1000<now-start){idx=idx+1;if(seq.length<=idx){idx=0}\n",
    "start=now}\n",
    "emit(seq[idx][1],seq[idx][2],seq[idx][0])},items:1,channels:3}).point({color:col,points:'<',size:15,depth:.5,zBias:50,})}"
   ]
  },
  {
   "cell_type": "markdown",
   "metadata": {
    "collapsed": true
   },
   "source": [
    "# Part IX: Stochastic Gradient Descent\n",
    "\n",
    "We now return to the example of logistic regression, but where we now use two parameters in our model. In particular, we will set\n",
    "\n",
    "$$\n",
    "\\text{prob}(y=1\\vert x;\\beta_0, \\beta_1) = \\text{logit}(\\beta_1 x +\\beta_0)\n",
    "$$\n",
    "and\n",
    "$$\n",
    "\\text{prob}(y=-1\\vert x;\\beta_0, \\beta_1) = \\text{logit}(-\\beta_1 x - \\beta_0)\n",
    "$$\n"
   ]
  },
  {
   "cell_type": "code",
   "execution_count": 3,
   "metadata": {},
   "outputs": [
    {
     "data": {
      "image/png": "[encoded data removed]",
      "text/plain": [
       "<matplotlib.figure.Figure at 0x109eb19e8>"
      ]
     },
     "metadata": {},
     "output_type": "display_data"
    }
   ],
   "source": [
    "def logit(x):\n",
    "    return 1/(1+np.exp(-x))\n",
    "\n",
    "b0 = 1\n",
    "b1 = 1\n",
    "\n",
    "t = np.linspace(-10, 10)\n",
    "s = b1 * t + b0\n",
    "plt.plot(s, logit(s))\n",
    "plt.title('Logisitic composed with affine')\n",
    "plt.xlabel('x')\n",
    "plt.ylabel('prob(y=1|x;b0=' + str(b0) + ', b1=' + str(b1) + ')')\n",
    "plt.show()"
   ]
  },
  {
   "cell_type": "markdown",
   "metadata": {},
   "source": [
    "Now suppose we are supplied with data $\\{(x^{(i)}, y^{(i)})\\}_{i=1}^N\\subset\\mathbb{R}\\times\\{-1, 1\\}$, where we assume that $x^{(i)}$ are chosen by some arbitrary process and $y^{(i)}$ is drawn from a Bernoulli trial with the above probability of $y^{(i)}=1, -1$. Our goal is to use this data to infer the true values of $\\beta_0$ and $\\beta_1$. Setting\n",
    "\n",
    "$$\n",
    "{\\bf \\beta} = \\begin{pmatrix}\n",
    "\\beta_0\\\\\n",
    "\\beta_1\n",
    "\\end{pmatrix}\\text{ and } {\\bf x} = \\begin{pmatrix}\n",
    "1\\\\\n",
    "x\n",
    "\\end{pmatrix},\n",
    "$$\n",
    "\n",
    "$\\text{logit}(\\beta_1 x + \\beta_0)=\\text{logit}({\\bf \\beta}^T{\\bf x})$. The maximum likelihood principle leads us to consider the maximization of the likelihood\n",
    "\n",
    "$$\n",
    "\\mathcal{L}({\\bf \\beta}) = \\prod_{i=1}^N \\text{logit}(y^{(i)}{\\bf \\beta}^T {\\bf x}^{(i)})\n",
    "$$\n",
    "\n",
    "and we therefore seek the minimize the negative log-likelihood\n",
    "\n",
    "$$\n",
    "\\ell({\\bf \\beta}) = \\frac{1}{N} \\sum_{i=1}^N \\log\\left(1 + e^{-y^{(i)}{\\bf \\beta}^T {\\bf x}^{(i)}}\\right)\n",
    "$$\n",
    "\n",
    "Let's create some data to display this function\n"
   ]
  },
  {
   "cell_type": "code",
   "execution_count": 4,
   "metadata": {},
   "outputs": [
    {
     "data": {
      "image/png": "[encoded data removed]",
      "text/plain": [
       "<matplotlib.figure.Figure at 0x103502898>"
      ]
     },
     "metadata": {},
     "output_type": "display_data"
    },
    {
     "data": {
      "application/javascript": [
       "window.X=[-0.6235742680677738, -1.198509075947956, 0.3928227733707115, -1.4648426532918928, 0.0030740615068838776, 1.0567753248901905, 0.7920002075545992, -0.03944832921505819, -1.0690426564549216, 1.265644766299456, 0.6764130757699752, 1.4581150646422145, 1.171418858606659, 0.5979523644503522, 0.8605011941132445, 1.3767489280330243, 0.5380308245441056, -0.050828410934655, 0.6167672113257373, -0.6198712980019913, -0.9687430742454596, -1.0779657041903694, -0.02274006435096905, -0.20819867393608468, 0.13142765449268415, -0.4876796602772635, -1.0544593299286453, -1.0320841257845106, -0.6019186112500604, -0.08508052672435801, -1.2815807961553842, 0.36294001915372537, -1.408257744883798, 0.6341307637858122, 0.669228714231465, -0.21094961990143152, -1.4969705066991577, -1.485383551916424, -0.9515534613653215, -0.2190221597172633, 1.0637659727820308, -1.3371384391752694, -1.823639936920443, -0.8890236563910339, -0.8181220907108828, -0.6560890818744746, 0.5024739000818333, 0.09731222004251161, -0.9218982847392848, -0.31161797712043937, 0.48992136937758707, -0.8500639877373246, 0.8799624952946073, -0.8441195820362334, -2.4831223703286947, 0.9690077734028738, -0.18649123107164736, -0.23069975163863157, -2.850848993300538, 0.31613240249752367, -1.1111782548799631, -0.02300328242559448, 1.2343658599582332, -0.5816036436666135, 0.8442862903399571, 1.6466274803856336, 0.58037360075688, -0.13599470709331846, -1.2583223095396214, -1.1302321813527048, -0.20823274207513476, 0.20795100406720554, -0.06348281202852721, 1.3641532504322478, -0.06780069159186257, -0.39522369393275025, 1.1414831315801908, -0.47104627049019443, -0.4554566652930802, 0.3319300850522681, -0.6555118274345135, 0.08269314101037033, -0.6050515029198791, -0.7420553504403509, -0.8367968937301453, 0.08760872877167104, 1.1337655307903505, 1.3790392299577063, -0.08972789326552606, 0.7963320894904365, -0.623209825863073, -1.0832719275681864, 0.05676846181911517, -1.4400324213739033, 0.1603579988681382, -2.7932473683251873, 0.9285363459605548, 0.9057342422176949, 1.3069471663289673, -0.4081384274654865];"
      ],
      "text/plain": [
       "<IPython.core.display.Javascript object>"
      ]
     },
     "metadata": {},
     "output_type": "display_data"
    },
    {
     "data": {
      "application/javascript": [
       "window.Y=[1.0, 1.0, 1.0, -1.0, 1.0, 1.0, 1.0, 1.0, -1.0, 1.0, 1.0, 1.0, 1.0, 1.0, 1.0, 1.0, 1.0, 1.0, 1.0, 1.0, -1.0, 1.0, 1.0, 1.0, 1.0, 1.0, 1.0, 1.0, 1.0, 1.0, -1.0, 1.0, 1.0, 1.0, 1.0, 1.0, 1.0, 1.0, 1.0, 1.0, 1.0, -1.0, -1.0, 1.0, -1.0, -1.0, 1.0, 1.0, -1.0, 1.0, 1.0, 1.0, 1.0, -1.0, -1.0, 1.0, 1.0, 1.0, -1.0, 1.0, -1.0, 1.0, 1.0, 1.0, 1.0, 1.0, 1.0, 1.0, -1.0, 1.0, 1.0, 1.0, 1.0, 1.0, 1.0, -1.0, 1.0, 1.0, -1.0, 1.0, 1.0, 1.0, 1.0, 1.0, 1.0, 1.0, 1.0, 1.0, 1.0, 1.0, 1.0, -1.0, 1.0, 1.0, 1.0, -1.0, 1.0, 1.0, 1.0, 1.0];"
      ],
      "text/plain": [
       "<IPython.core.display.Javascript object>"
      ]
     },
     "metadata": {},
     "output_type": "display_data"
    },
    {
     "data": {
      "application/javascript": [
       "window.B=[2, 2];"
      ],
      "text/plain": [
       "<IPython.core.display.Javascript object>"
      ]
     },
     "metadata": {},
     "output_type": "display_data"
    }
   ],
   "source": [
    "N = 100\n",
    "beta = np.array([2, 2]) # The true parameters in the model\n",
    "x = rd.randn(N) # Arbitrary x values\n",
    "\n",
    "# y's drawn randomly\n",
    "y = np.zeros(N)\n",
    "for i in range(N):\n",
    "    if rd.binomial(1,logit(beta.T @ [1, x[i]])) == 1:\n",
    "        y[i] = 1\n",
    "    else:\n",
    "        y[i] = -1\n",
    "        \n",
    "plt.scatter(x, y)\n",
    "plt.show()\n",
    "        \n",
    "jsglobal(X=x)\n",
    "jsglobal(Y=y)\n",
    "jsglobal(B=beta)"
   ]
  },
  {
   "cell_type": "code",
   "execution_count": 5,
   "metadata": {},
   "outputs": [
    {
     "data": {
      "application/javascript": [
       "\n",
       "with_mathbox(element, function(mathbox) {\n",
       "    \n",
       "    var fcn = function(b0, b1) {\n",
       "        \n",
       "        var val = 0;\n",
       "        for (var i = 0; i<X.length; i++) {\n",
       "            val = val + Math.log(1 + Math.exp(-Y[i] * (b1 * X[i] + b0)));\n",
       "        } \n",
       "        \n",
       "        return val / X.length;\n",
       "    }\n",
       "    \n",
       "    var view = plotGraph(mathbox, fcn, 'b0', 'b1', 'l(b0,b1)', [[-3, 3], [-1, 3], [-3, 3]]);\n",
       "    \n",
       "    addPoint(view, [B[0], B[1], 0], 0x3090FF, '(2, 2)');\n",
       "    \n",
       "    addPoint(view, [B[0], B[1], fcn(B[0], B[1])], 0xFF9030, 'Objective at True Parameter')\n",
       "     \n",
       "})"
      ],
      "text/plain": [
       "<IPython.core.display.Javascript object>"
      ]
     },
     "metadata": {},
     "output_type": "display_data"
    }
   ],
   "source": [
    "%%javascript\n",
    "\n",
    "with_mathbox(element, function(mathbox) {\n",
    "    \n",
    "    var fcn = function(b0, b1) {\n",
    "        \n",
    "        var val = 0;\n",
    "        for (var i = 0; i<X.length; i++) {\n",
    "            val = val + Math.log(1 + Math.exp(-Y[i] * (b1 * X[i] + b0)));\n",
    "        } \n",
    "        \n",
    "        return val / X.length;\n",
    "    }\n",
    "    \n",
    "    var view = plotGraph(mathbox, fcn, 'b0', 'b1', 'l(b0,b1)', [[-3, 3], [-1, 3], [-3, 3]]);\n",
    "    \n",
    "    addPoint(view, [B[0], B[1], 0], 0x3090FF, '(2, 2)');\n",
    "    \n",
    "    addPoint(view, [B[0], B[1], fcn(B[0], B[1])], 0xFF9030, 'Objective at True Parameter')\n",
    "     \n",
    "})"
   ]
  },
  {
   "cell_type": "markdown",
   "metadata": {},
   "source": [
    "We can generate data and view the objective function determined by that data. We can also illustrate the convergence of stochastic gradient descent."
   ]
  },
  {
   "cell_type": "code",
   "execution_count": 6,
   "metadata": {},
   "outputs": [
    {
     "data": {
      "application/javascript": [
       "window.SGD=[[0.0, 0.0, 0.0], [0.632455532033676, 0.5197546461055172, 0.0], [1.1567782278858385, 0.5165332049570776, 0.0], [1.2756632504312442, 0.595816230022012, 0.0], [1.3518543412889186, 0.652379664380936, 0.0], [1.4065661266642124, 0.6836204078314199, 0.0], [1.4729371518571448, 0.6779830472742242, 0.0], [1.4477550910671853, 0.8297842973573453, 0.0], [1.5282984128816246, 0.804946954244174, 0.0], [1.5473211832543357, 0.8142787544888821, 0.0], [1.5731883028451739, 0.8197706666774137, 0.0], [1.5940672549479886, 0.8297885416540685, 0.0], [1.6147773484185604, 0.8270668170802189, 0.0], [1.6561247627980586, 0.8026101815489003, 0.0], [1.680004213858797, 0.8088833020901676, 0.0], [1.6907858647704797, 0.8252385158016018, 0.0], [1.700112075766746, 0.8581932298523953, 0.0], [1.7244373325570537, 0.8510449680795353, 0.0], [1.7460331192256722, 0.8518468018298123, 0.0], [1.7608853240159437, 0.8466601130642921, 0.0], [1.7760470535045898, 0.8537635003634708, 0.0], [1.7688627978278373, 0.8858504338900345, 0.0], [1.7881299788593834, 0.8760740863219357, 0.0], [1.794832677851924, 0.875076273699897, 0.0], [1.8163375833046318, 0.8570290905984548, 0.0], [1.823224200001356, 0.8609882046805697, 0.0], [1.8262529545819792, 0.8643921267848884, 0.0], [1.8267001665785505, 0.874040793635914, 0.0], [1.8378105313374513, 0.8712734202327174, 0.0], [1.8421778403793438, 0.8774274126575123, 0.0], [1.8602511619214686, 0.8676215629500528, 0.0], [1.8724847015458295, 0.8577890349287232, 0.0], [1.8759443994670397, 0.8622170699893754, 0.0], [1.8899052766284712, 0.857936439685656, 0.0], [1.8892614687131064, 0.8785069758985234, 0.0], [1.9009275939852468, 0.8765754011993283, 0.0], [1.8971218312828133, 0.8989884314169794, 0.0], [1.906374826952263, 0.8996096832531734, 0.0], [1.8981566619032022, 0.922276463994853, 0.0], [1.903005088071206, 0.9225397897932297, 0.0], [1.9115642092809888, 0.9213546745015336, 0.0], [1.9193524304313927, 0.9148592599932349, 0.0], [1.9310139488825775, 0.9099901783999399, 0.0], [1.9364158367648494, 0.9089085534912303, 0.0], [1.9419114684776597, 0.9094033395133764, 0.0], [1.9402470945529824, 0.9124701953175931, 0.0], [1.9409585005252843, 0.9249013325014964, 0.0], [1.9448281746209433, 0.9286918024439026, 0.0], [1.9468879819957268, 0.9318764557757638, 0.0], [1.9529946757948866, 0.9321128748584351, 0.0], [1.957115558703956, 0.9323840953276277, 0.0], [1.9571370697852932, 0.9381050164274687, 0.0], [1.962040074875303, 0.9374463610791626, 0.0], [1.9613459507420186, 0.9444568598081207, 0.0], [1.9640827515611434, 0.9463203695904354, 0.0], [1.9653755957912329, 0.9513012300386371, 0.0], [1.9731264822799373, 0.9480058839644994, 0.0], [1.975050525565069, 0.9501345856535368, 0.0], [1.9809803163157793, 0.948483291409088, 0.0], [1.9852947418329143, 0.9481514321620064, 0.0], [1.9896614288430157, 0.9464351197497904, 0.0], [1.987142447445721, 0.9615602104419714, 0.0], [1.9951527329734613, 0.9566501807161216, 0.0], [1.9902192468309743, 0.9688742206658923, 0.0], [1.9941176015870323, 0.9689886290513142, 0.0], [1.9954798507265399, 0.973284893788664, 0.0], [1.9973183846625573, 0.9737925129918368, 0.0], [1.9979537942743695, 0.9770906342179045, 0.0], [2.00382160051127, 0.9741222039537312, 0.0], [2.0036875785525936, 0.977117586821984, 0.0], [2.0068851048580045, 0.9781321496125405, 0.0], [2.010202935991305, 0.9782467874948645, 0.0], [2.0105404929299207, 0.9816239989213584, 0.0], [2.011971949271773, 0.9821761736524013, 0.0], [2.0159222706479083, 0.98136933803338, 0.0], [2.020992917452094, 0.9785952759614064, 0.0], [2.0273095891198056, 0.974918960380678, 0.0], [2.0299651313228293, 0.9757344271829035, 0.0], [2.029566686034533, 0.9847837791603925, 0.0], [2.030778077845882, 0.9870694303259899, 0.0], [2.030123565728239, 0.9950606543111118, 0.0], [2.0337900468069536, 0.9943931282497114, 0.0], [2.0385033111829896, 0.9928124146117625, 0.0], [2.0402604591925764, 0.998529350000272, 0.0], [2.0399626254024144, 1.0016863205045543, 0.0], [2.0420290089495214, 1.0022613512659566, 0.0], [2.0431735624839633, 1.0035677565754109, 0.0], [2.0464955527265825, 1.003757427118871, 0.0], [2.045220783152707, 1.0103555331936556, 0.0], [2.04885860110196, 1.006849540541414, 0.0], [2.0524196133166406, 1.0060262494712546, 0.0], [2.0540962933997213, 1.0107531195951394, 0.0], [2.051281500866251, 1.0168446388011838, 0.0], [2.0500995019071304, 1.021671726515108, 0.0], [2.0519554462298832, 1.0223201518820413, 0.0], [2.051984364217277, 1.0251388166426276, 0.0], [2.0583371713186693, 1.0194176008902198, 0.0], [2.063120662511269, 1.0170332728228866, 0.0], [2.065598873131684, 1.0171947749558015, 0.0], [2.064372134703745, 1.021333423244529, 0.0]];"
      ],
      "text/plain": [
       "<IPython.core.display.Javascript object>"
      ]
     },
     "metadata": {},
     "output_type": "display_data"
    }
   ],
   "source": [
    "X_data = np.vstack([np.ones(N), x])\n",
    "y_data = y\n",
    "\n",
    "M = 10 # Number of indices to randomly select for each step\n",
    "\n",
    "def dNLL(beta, X, y):\n",
    "    return -X @ (y * logit(-beta.T @ X)) / M\n",
    "\n",
    "iterations = 100\n",
    "\n",
    "betas_sgd = np.zeros((iterations, 3))\n",
    "\n",
    "for i in range(1,iterations):\n",
    "    idxs = rd.choice(N, M, replace=False)\n",
    "    betas_sgd[i,:2] = betas_sgd[i-1,:2] - np.sqrt(M)*dNLL(betas_sgd[i-1,:2].T, X_data[:,idxs], y_data[idxs])/i\n",
    "\n",
    "jsglobal(SGD=betas_sgd)"
   ]
  },
  {
   "cell_type": "code",
   "execution_count": 7,
   "metadata": {},
   "outputs": [
    {
     "data": {
      "application/javascript": [
       "\n",
       "with_mathbox(element, function(mathbox) {\n",
       "    \n",
       "    var fcn = function(b0, b1) {\n",
       "        \n",
       "        var val = 0;\n",
       "        for (var i = 0; i<X.length; i++) {\n",
       "            val = val + Math.log(1 + Math.exp(-Y[i] * (b1 * X[i] + b0)));\n",
       "        } \n",
       "        \n",
       "        return val / X.length;\n",
       "    }\n",
       "    \n",
       "    var view = plotGraph(mathbox, fcn, 'b0', 'b1', 'l(b0,b1)', [[-3, 3], [-1, 3], [-3, 3]]);\n",
       "    \n",
       "    addPoint(view, [B[0], B[1], 0], 0x3090FF, '(2, 2)');\n",
       "    \n",
       "    addPoint(view, [B[0], B[1], fcn(B[0], B[1])], 0xFF9030, 'Objective at True Parameter');\n",
       "    \n",
       "    addSequence(view, SGD, 0xFF0000);\n",
       "     \n",
       "})"
      ],
      "text/plain": [
       "<IPython.core.display.Javascript object>"
      ]
     },
     "metadata": {},
     "output_type": "display_data"
    }
   ],
   "source": [
    "%%javascript\n",
    "\n",
    "with_mathbox(element, function(mathbox) {\n",
    "    \n",
    "    var fcn = function(b0, b1) {\n",
    "        \n",
    "        var val = 0;\n",
    "        for (var i = 0; i<X.length; i++) {\n",
    "            val = val + Math.log(1 + Math.exp(-Y[i] * (b1 * X[i] + b0)));\n",
    "        } \n",
    "        \n",
    "        return val / X.length;\n",
    "    }\n",
    "    \n",
    "    var view = plotGraph(mathbox, fcn, 'b0', 'b1', 'l(b0,b1)', [[-3, 3], [-1, 3], [-3, 3]]);\n",
    "    \n",
    "    addPoint(view, [B[0], B[1], 0], 0x3090FF, '(2, 2)');\n",
    "    \n",
    "    addPoint(view, [B[0], B[1], fcn(B[0], B[1])], 0xFF9030, 'Objective at True Parameter');\n",
    "    \n",
    "    addSequence(view, SGD, 0xFF0000);\n",
    "     \n",
    "})"
   ]
  },
  {
   "cell_type": "markdown",
   "metadata": {},
   "source": []
  }
 ],
 "metadata": {
  "anaconda-cloud": {},
  "kernelspec": {
   "display_name": "Python [default]",
   "language": "python",
   "name": "python3"
  },
  "language_info": {
   "codemirror_mode": {
    "name": "ipython",
    "version": 3
   },
   "file_extension": ".py",
   "mimetype": "text/x-python",
   "name": "python",
   "nbconvert_exporter": "python",
   "pygments_lexer": "ipython3",
   "version": "3.5.3"
  }
 },
 "nbformat": 4,
 "nbformat_minor": 1
}

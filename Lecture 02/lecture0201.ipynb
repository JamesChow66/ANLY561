{
 "cells": [
  {
   "cell_type": "markdown",
   "metadata": {},
   "source": [
    "# Lecture 2: *Bivariate Optimization*\n",
    "\n",
    "The goal of this lecture is to generalize our theory of optimization over $\\mathbb{R}$ to optimization over $\\mathbb{R}^2$. Once we have an intution behind optimization over $\\mathbb{R}^2$, we'll be much better equipped to deal with optimization over the general Euclidean spaces, $\\mathbb{R}^n$. To create nice visualizations, we'll use Mathbox2."
   ]
  },
  {
   "cell_type": "code",
   "execution_count": 1,
   "metadata": {
    "collapsed": true
   },
   "outputs": [],
   "source": [
    "'''\n",
    "This code imports numpy packages and allows us to pass data from python to global javascript\n",
    "objects. It was developed by znah@github\n",
    "'''\n",
    "\n",
    "import json\n",
    "import numpy as np\n",
    "import numpy.random as rd\n",
    "from ipywidgets import widgets\n",
    "from IPython.display import HTML, Javascript, display\n",
    "\n",
    "def json_numpy_serializer(o):\n",
    "    if isinstance(o, np.ndarray):\n",
    "        return o.tolist()\n",
    "    raise TypeError(\"{} of type {} is not JSON serializable\".format(repr(o), type(o)))\n",
    "\n",
    "def jsglobal(**params):\n",
    "    code = [];\n",
    "    for name, value in params.items():\n",
    "        jsdata = json.dumps(value, default=json_numpy_serializer)\n",
    "        code.append(\"window.{}={};\".format(name, jsdata))\n",
    "    display(Javascript(\"\\n\".join(code)))"
   ]
  },
  {
   "cell_type": "code",
   "execution_count": 2,
   "metadata": {},
   "outputs": [
    {
     "data": {
      "application/javascript": [
       "\n",
       "// Loading the compiled MathBox bundle.\n",
       "require.config({\n",
       "    //baseUrl:'', paths: {mathBox: '../../tree/static/mathbox/build/mathbox-bundle',graphing: '../../tree/static/graphing/graphing'}\n",
       "    // online compilation\n",
       "    baseUrl: '', paths: {mathBox: '../static/mathbox/build/mathbox-bundle', graphing: '../../static/graphing/graphing'}\n",
       "    // online compilation without local library-- remove baseUrl\n",
       "    //paths: {mathBox: '//cdn.rawgit.com/unconed/mathbox/eaeb8e15/build/mathbox-bundle'}\n",
       "});\n",
       "\n",
       "// Require commands for 3d plotting\n",
       "require(['graphing'])"
      ],
      "text/plain": [
       "<IPython.core.display.Javascript object>"
      ]
     },
     "metadata": {},
     "output_type": "display_data"
    }
   ],
   "source": [
    "%%javascript\n",
    "\n",
    "// Loading the compiled MathBox bundle.\n",
    "require.config({\n",
    "    //baseUrl:'', paths: {mathBox: '../../tree/static/mathbox/build/mathbox-bundle',graphing: '../../tree/static/graphing/graphing'}\n",
    "    // online compilation\n",
    "    baseUrl: '', paths: {mathBox: '../static/mathbox/build/mathbox-bundle', graphing: '../../static/graphing/graphing'}\n",
    "    // online compilation without local library-- remove baseUrl\n",
    "    //paths: {mathBox: '//cdn.rawgit.com/unconed/mathbox/eaeb8e15/build/mathbox-bundle'}\n",
    "});\n",
    "\n",
    "// Require commands for 3d plotting\n",
    "require(['graphing'])\n"
   ]
  },
  {
   "cell_type": "markdown",
   "metadata": {},
   "source": [
    "# Part I: Preliminaries and Definitions\n",
    "We let \n",
    "$$\n",
    "\\mathbb{R}^2 =\\{(x,\\:y):x,y\\in\\mathbb{R}\\}\n",
    "$$\n",
    "denote the Euclidean plane, which consists of all ordered pairs of real numbers. Sometimes the ordered pairs will take the form ${\\bf x}=(x_1,\\:x_2)$, in which case the individual **entries** or **components** of ${\\bf x}$ are $x_1$ and $x_2$. That is, $x_1$ is the first entry or component of ${\\bf x}$ and $x_2$ is the second.\n",
    "\n",
    "Just as $f:\\mathbb{R}\\rightarrow\\mathbb{R}$ can be represented by the graph\n",
    "$$\n",
    "\\{(x, f(x)): x\\in\\mathbb{R}\\}\\subset\\mathbb{R}^2,\n",
    "$$\n",
    "a bivariate function $f:\\mathbb{R}^2\\rightarrow\\mathbb{R}$ can be represented by the graph\n",
    "$$\n",
    "\\{(x, y, f(x, y): (x,y)\\in\\mathbb{R}^2\\}\\subset\\mathbb{R}^3.\n",
    "$$"
   ]
  },
  {
   "cell_type": "code",
   "execution_count": 3,
   "metadata": {},
   "outputs": [
    {
     "data": {
      "application/javascript": [
       "\n",
       "with_mathbox(element, function(mathbox) {\n",
       "    \n",
       "    var fcn = function(x, y) {\n",
       "        return (2 + 8*y*y + Math.pow(x-2,2)*(Math.pow(x+2,2)+1))/20;\n",
       "    }\n",
       "    \n",
       "    var view = plotGraph(mathbox, fcn);\n",
       "    \n",
       "})"
      ],
      "text/plain": [
       "<IPython.core.display.Javascript object>"
      ]
     },
     "metadata": {},
     "output_type": "display_data"
    }
   ],
   "source": [
    "%%javascript\n",
    "\n",
    "with_mathbox(element, function(mathbox) {\n",
    "    \n",
    "    var fcn = function(x, y) {\n",
    "        return (2 + 8*y*y + Math.pow(x-2,2)*(Math.pow(x+2,2)+1))/20;\n",
    "    }\n",
    "    \n",
    "    var view = plotGraph(mathbox, fcn);\n",
    "    \n",
    "})\n"
   ]
  },
  {
   "cell_type": "markdown",
   "metadata": {},
   "source": [
    "It is easy enough to see that the reflection principle also applies when we optimize over $\\mathbb{R}^2$; a maximizer of $f(x,y)$ over $\\mathbb{R}^2$ is also a minimizer of $-f(x,y)$ over $\\mathbb{R}^2$. Thus, an unconstrained optimization program involving $f:\\mathbb{R}^2\\rightarrow\\mathbb{R}$ is generally expressed as\n",
    "$$\n",
    "(P):\\:\\:\\min_{(x,y)\\in\\mathbb{R}^2} f(x,y).\n",
    "$$\n",
    "A **solution** to this program is any $(x^\\ast,y^\\ast)\\in\\mathbb{R}^2$ satisfying $f(x^\\ast,y^\\ast)\\leq f(x, y)$ for any $x,y\\in\\mathbb{R}^2$, and two programs are **equivalent** if they have the same solutions. Note that, if $\\phi:\\mathbb{R}\\rightarrow\\mathbb{R}$ is **order preserving**, then\n",
    "$$\n",
    "\\min_{(x,y)\\in\\mathbb{R}^2} \\phi(f(x,y))\n",
    "$$\n",
    "is equivalent to $(P)$. Furthermore, the **minimum value** of $f:\\mathbb{R}^2\\rightarrow\\mathbb{R}$ is any value $p$ such that $p\\leq f(x,y)$ for all $(x,y)\\in\\mathbb{R}^2$ and if $y\\leq f(x,y)$ for all $(x,y)\\in\\mathbb{R}^2$ then $y\\leq p$.\n",
    "\n",
    "## Constrained Bivariate Optimization\n",
    "\n",
    "Constrained optimization becomes much more complicated in $\\mathbb{R}^2$. We will often consider some subset $X\\subset\\mathbb{R}^2$ and a function $f:X\\rightarrow\\mathbb{R}$, where $X$ is determined by other functions. That is, $X$ will be specified by identifying functions $g_1, g_2, \\ldots, g_n:\\mathbb{R}^2\\rightarrow\\mathbb{R}$ and $h_1, h_2,\\ldots, h_m:\\mathbb{R}^2\\rightarrow\\mathbb{R}$ so that\n",
    "\n",
    "$$\n",
    "X = \\{(x,y)\\in\\mathbb{R}^2: g_i(x,y)=0\\text{ and }h_j(x,y)\\leq 0\\text{ for all }i=1,\\ldots,n\\text{ and }j=1,\\ldots, m\\}.\n",
    "$$\n",
    "\n",
    "1. We call the constraints $g_i(x,y)=0$ **equality constraints**\n",
    "2. We call the constraints $h_j(x,y)\\leq 0$ **inequality constraints**\n",
    "\n",
    "A constrained optimization program is then expressed as\n",
    "\n",
    "$$\n",
    "\\min f(x,y)\\text{ subject to } g_i(x,y)=0\\text{ and }h_j(x,y)\\leq 0\\text{ for all }i=1,\\ldots, n\\text{ and }j=1,\\ldots, m.\n",
    "$$\n",
    "\n",
    "The set $X$ is called the **feasible region**. The program is called **feasible** if $X\\not=\\emptyset$, and is called **infeasible** otherwise. A point $(x, y)\\in X$ is called a **feasible point** or simply **feasible**. If $(x,y)\\in X$ and $h_j(x,y)<0$ for all $j=1,\\ldots, m$, then $(x,y)$ is called **strictly feasible**. \n",
    "\n",
    "### Example: \n",
    "$$\n",
    "\\min 2x^2 + 2xy + 2y^2\\text{ subject to } x^2+y^2=1,\\: x\\geq 0,\\text{ and }y\\geq 0.\n",
    "$$\n",
    "\n",
    "The path to understanding constrained optimization over $\\mathbb{R}^2$ passes through a thorough understanding of unconstrained optimization over $\\mathbb{R}^2$. We will return to this topic when we have the necessary tools to make sense of things.\n",
    "\n",
    "## Group Problems\n",
    "\n",
    "1. Suppose $f:\\mathbb{R}^2\\rightarrow\\mathbb{R}$ and that $(x^\\ast, y^\\ast)$ is a solution to $\\displaystyle\\min_{(x,y)\\in\\mathbb{R}^2} f(x, y)$. Explain why $x^\\ast$ is a solution to $\\displaystyle\\min_{x\\in\\mathbb{R}} f(x, y^\\ast)$ and $y^\\ast$ is a solution to $\\displaystyle\\min_{y\\in\\mathbb{R}} f(x^\\ast, y)$.\n",
    "2. Suppose $f:\\mathbb{R}^2\\rightarrow\\mathbb{R}$ and that $t^\\ast=0$ is a solution to $\\displaystyle \\min_{t\\in\\mathbb{R}} f(x^\\ast + ta, y^\\ast+tb)$ for all $(a, b)\\in\\mathbb{R}^2$. Explain why $(x^\\ast, y^\\ast)$ is a solution to $\\displaystyle \\min_{(x,y)\\in\\mathbb{R}^2}f(x,y)$.\n",
    "3. Suppose $f:\\mathbb{R}^2\\rightarrow\\mathbb{R}$. For each $y\\in \\mathbb{R}$, suppose that $x^\\ast(y)\\in\\mathbb{R}$ is the unique solution to $\\min_{x\\in\\mathbb{R}} f(x,y^\\ast)$. If $y^\\ast$ is a solution to $\\min_{y\\in\\mathbb{R}}f(x^\\ast(y), y)$, explain why $(x^\\ast(y^\\ast), y^\\ast)$ is a solution to $\\displaystyle \\min_{(x,y)\\in\\mathbb{R}^2}f(x,y)$.\n",
    "4. The **epigraph** form of a 1D optimization program $\\displaystyle \\min_{x\\in\\mathbb{R}}f(x)$ is the constrained program $\\displaystyle\\min_{(x,t)\\in\\mathbb{R}^2} t$ subject to $f(x)\\leq t$. If $x^\\ast$ solves the original 1D program, show that there is a $t^\\ast$ such that $(x^\\ast, t^\\ast)$ solves the epigraph reformulation.\n",
    "5. Again considering the epigraph reformulation of a 1D program explained in GP 3, explain why if $(x^\\ast, t^\\ast)$ solves the epigraph program, then $x^\\ast$ is a solution to the original program.\n",
    "6. Convert the equality-constrained program $\\displaystyle \\min 2x^2 + 2xy + 2y^2$ subject to $x^2+y^2=1$ into a 1D optimization program. Solve the original program by solving the 1D reformulation.\n",
    "7. Convert the equality-constrained program $\\displaystyle \\min 2x^2 + 2xy + 2y^2$ subject to $xy=1$ into a 1D optimization program. Solve the original program by solving the 1D reformulation.\n",
    "8. Convert the equality-constrained program $\\displaystyle \\min_{(p,q)\\in\\mathbb{R}^2} p\\log p + q\\log p$ subject to $p+q=1,\\: p\\geq 0, \\: q\\geq 0$ into a 1D optimization program. Solve the original program by solving the 1D reformulation."
   ]
  },
  {
   "cell_type": "code",
   "execution_count": 4,
   "metadata": {
    "collapsed": true
   },
   "outputs": [],
   "source": []
  }
 ],
 "metadata": {
  "anaconda-cloud": {},
  "kernelspec": {
   "display_name": "Python [default]",
   "language": "python",
   "name": "python3"
  },
  "language_info": {
   "codemirror_mode": {
    "name": "ipython",
    "version": 3
   },
   "file_extension": ".py",
   "mimetype": "text/x-python",
   "name": "python",
   "nbconvert_exporter": "python",
   "pygments_lexer": "ipython3",
   "version": "3.5.3"
  }
 },
 "nbformat": 4,
 "nbformat_minor": 1
}
